{
 "cells": [
  {
   "cell_type": "markdown",
   "id": "69d9d6cc",
   "metadata": {},
   "source": [
    "# CS5481 - Tutorial 8\n",
    "## Information Retrieval\n",
    "\n",
    "Welcome to CS5481 tutorial 8. In this tutorial, you will learn how to use classic information retreival methods in practice.\n",
    "\n",
    "## preparation\n",
    "- Python\n",
    "- Python Libraries\n",
    "  - numpy"
   ]
  },
  {
   "cell_type": "markdown",
   "id": "aa182e09",
   "metadata": {},
   "source": [
    "# Context\n",
    "1. Boolean Retrieval\n",
    "2. Vector Space Model\n",
    "3. BM25 Model"
   ]
  },
  {
   "cell_type": "markdown",
   "id": "470f48aa",
   "metadata": {},
   "source": [
    "# Boolen Retrieval\n"
   ]
  },
  {
   "cell_type": "markdown",
   "id": "a605a10f",
   "metadata": {},
   "source": [
    "Let's consider the following documents:"
   ]
  },
  {
   "cell_type": "code",
   "execution_count": null,
   "id": "583961dc",
   "metadata": {},
   "outputs": [],
   "source": [
    "docs = [\"The top surface of the Model A's car-like exterior is a mesh so that air can pass through to eight propellers inside the body which provide lift.\",\n",
    "       \"But flying any distance using these alone, without the assistance of wings, would require prohibitive amounts of power.\",\n",
    "       \"Alef's proposed solution is novel - for longer flights the Model A transforms into a biplane.\",\n",
    "       \"It's an ingenious idea, but is it a practical one?\",\n",
    "       \"The mesh, as visualised, might also cause significant aerodynamic drag, he adds.\"]"
   ]
  },
  {
   "cell_type": "markdown",
   "id": "f097ca88",
   "metadata": {},
   "source": [
    "Q1: construct a vocabulary table for these documents"
   ]
  },
  {
   "cell_type": "code",
   "execution_count": null,
   "id": "70297385",
   "metadata": {},
   "outputs": [],
   "source": [
    "import numpy as np\n",
    "vocabs = [v.strip(\"-\").strip(\".\").strip(\"?\").strip(\",\") for doc in docs for v in doc.strip().split()]\n",
    "# remove repeated vocabs\n",
    "vocabs = list(set(vocabs))\n",
    "vocabs"
   ]
  },
  {
   "cell_type": "markdown",
   "id": "848101cb",
   "metadata": {},
   "source": [
    "Q2. Represent documetns with One-Hot"
   ]
  },
  {
   "cell_type": "code",
   "execution_count": null,
   "id": "1c405505",
   "metadata": {},
   "outputs": [],
   "source": [
    "one_hot_docs = np.zeros((len(docs), len(vocabs)))\n",
    "print(one_hot_docs.shape) # doc_num x vocab_len\n",
    "for i, doc in enumerate(docs):\n",
    "    for v in doc.strip().split():\n",
    "        v = v.strip(\"-\").strip(\".\").strip(\"?\").strip(\",\")\n",
    "        one_hot_docs[i][vocabs.index(v)] = 1\n",
    "one_hot_docs"
   ]
  },
  {
   "cell_type": "markdown",
   "id": "1344af31",
   "metadata": {},
   "source": [
    "Q3. Retrieval docs satisfying the following requirements with Boolean Model\n",
    "1. Model OR power\n",
    "2. Model AND air"
   ]
  },
  {
   "cell_type": "code",
   "execution_count": null,
   "id": "5d410fa8",
   "metadata": {},
   "outputs": [],
   "source": [
    "Model_id = vocabs.index(\"Model\")\n",
    "power_id = vocabs.index(\"power\")\n",
    "air_id = vocabs.index(\"air\")\n",
    "\n",
    "retri_1 = np.zeros(len(vocabs))\n",
    "retri_1[Model_id] = 1\n",
    "retri_1[power_id] = 1\n",
    "\n",
    "retri_1_results = np.sum(one_hot_docs * retri_1, axis=1)\n",
    "print(\"Retrievaled Docs: \",retri_1_results >= 1)\n",
    "\n",
    "retri_2 = np.zeros(len(vocabs))\n",
    "retri_2[Model_id] = 1\n",
    "retri_2[air_id] = 1\n",
    "\n",
    "retri_2_results = np.sum(one_hot_docs * retri_2, axis=1)\n",
    "print(\"Retrievaled Docs: \",retri_2_results >= 2)"
   ]
  },
  {
   "cell_type": "markdown",
   "id": "0efd5910",
   "metadata": {},
   "source": [
    "# Vector Space Model\n",
    "\n",
    "Here, we mainly use TF-IDF method to retrieval douements"
   ]
  },
  {
   "cell_type": "markdown",
   "id": "a27b9178",
   "metadata": {},
   "source": [
    "Q1. Represent documents with TF-IDF Model"
   ]
  },
  {
   "cell_type": "code",
   "execution_count": null,
   "id": "eee59a81",
   "metadata": {},
   "outputs": [],
   "source": [
    "corpus = [\n",
    "    'this is the first document',\n",
    "    'this is the second second document',\n",
    "    'and the third one',\n",
    "    'is this the first document'\n",
    "]\n",
    "\n",
    "# tokenize words\n",
    "word_list = []\n",
    "for i in range(len(corpus)):\n",
    "    word_list.append(corpus[i].split(' '))\n",
    "word_list"
   ]
  },
  {
   "cell_type": "code",
   "execution_count": null,
   "id": "2dab5a54",
   "metadata": {},
   "outputs": [],
   "source": [
    "# assign an id to each word and obtain each word's frequency\n",
    "from collections import Counter\n",
    "dictionary = Counter([v for item in word_list for v in item])\n",
    "dictionary"
   ]
  },
  {
   "cell_type": "code",
   "execution_count": null,
   "id": "0ff74283",
   "metadata": {},
   "outputs": [],
   "source": [
    "# represent each document with word frequency in current documents\n",
    "words = list(dictionary.keys())\n",
    "print(words)\n",
    "tf = np.zeros((len(word_list), len(dictionary)))\n",
    "for i, doc in enumerate(word_list):\n",
    "    for v in doc:\n",
    "        # word freq in current document\n",
    "        tf[i, words.index(v)] += 1 / len(doc)\n",
    "tf"
   ]
  },
  {
   "cell_type": "code",
   "execution_count": null,
   "id": "88b71990",
   "metadata": {},
   "outputs": [],
   "source": [
    "# represent each document with word inverse document freqency\n",
    "idf = np.zeros((len(word_list), len(dictionary)))\n",
    "for i, doc in enumerate(word_list):\n",
    "    for v in doc:\n",
    "        idf[i, words.index(v)] = 1\n",
    "# The number of documents containing the current word\n",
    "idf = idf.sum(0)+1\n",
    "idf = np.log(len(word_list) / idf)\n",
    "idf"
   ]
  },
  {
   "cell_type": "code",
   "execution_count": null,
   "id": "7b40cdb0",
   "metadata": {},
   "outputs": [],
   "source": [
    "tfidf = tf * idf\n",
    "tfidf"
   ]
  },
  {
   "cell_type": "markdown",
   "id": "20a255e2",
   "metadata": {},
   "source": [
    "Q2. Compute similarity bewteeen the following document and the above documents based on tfidf with dot product "
   ]
  },
  {
   "cell_type": "code",
   "execution_count": null,
   "id": "b371ff35",
   "metadata": {},
   "outputs": [],
   "source": [
    "query_doc = \"this is second document\"\n",
    "tf_query = np.zeros(len(dictionary))\n",
    "for v in query_doc.split():\n",
    "    tf_query[words.index(v)] = 1 / len(query_doc.split())\n",
    "print(\"tf_query: \", tf_query)\n",
    "idf_query = np.zeros(len(dictionary))\n",
    "for v in query_doc.split():\n",
    "    idf_query[words.index(v)] = idf[words.index(v)]\n",
    "print(\"idf_query: \", idf_query)\n",
    "tfidf_query = tf_query * idf_query\n",
    "print(\"tfidf_query: \", tfidf_query)"
   ]
  },
  {
   "cell_type": "code",
   "execution_count": null,
   "id": "c85c760e",
   "metadata": {},
   "outputs": [],
   "source": [
    "# compute cosine similary\n",
    "similarity = tfidf_query * tfidf\n",
    "similarity.sum(1)"
   ]
  },
  {
   "cell_type": "markdown",
   "id": "6fefabb9",
   "metadata": {},
   "source": [
    "# BM25 Model\n",
    "\n",
    "$Score(Q, d) = \\sum_{i}^{n}W_i R(q_i, d)$, where $Q$ is the query, $d$ is a document, $n$ is the number of words in $Q$, $q_i$ is the $i$-th word in query. $W_i$ is the weight of this word, $R(q_i, d)$ is the relevant score bewteen word $q_i$ and document $d$.\n",
    "\n",
    "In BM2.5 Model\n",
    "\n",
    "$W_i = log\\frac{N-df_i+0.5}{df_i+0.5}$, where $N$ is the numbe of all documents in document database, $df_i$ is the number of documents containing word $q_i$.\n",
    "\n",
    "$R(q_i, d) = \\frac{f_i(k_1+1)}{f+K} * \\frac{qf_i(k_2+1)}{qf_i+k_2}$\n",
    "\n",
    "$K = k_1 * (1 -b + b * \\frac{dl}{avg\\_dl})$, where $k_1$, $k_2$, $b$ are harmonic factors, $f_i$ is the number word $q_i$ appearing in all documents, $qf_i$ is the number word $q_i$ appearing in query, $dl$ is the length of docuemnt $d$, $avg\\_dl$ is the average length of all documents."
   ]
  },
  {
   "cell_type": "markdown",
   "id": "5ffe1b65",
   "metadata": {},
   "source": [
    "Q1. Construct a BM25 Model"
   ]
  },
  {
   "cell_type": "code",
   "execution_count": null,
   "id": "60d2303c",
   "metadata": {},
   "outputs": [],
   "source": [
    "import numpy as np\n",
    "from collections import Counter\n",
    "\n",
    "\n",
    "class BM25_Model(object):\n",
    "    def __init__(self, documents_list, k1=2, k2=1, b=0.5):\n",
    "        # documents and each document is a list of words\n",
    "        self.documents_list = documents_list\n",
    "        self.documents_number = len(documents_list)\n",
    "        # average document length\n",
    "        self.avg_documents_len = sum([len(document) for document in documents_list]) / self.documents_number\n",
    "        # save each word's frequency in each document\n",
    "        self.f = []\n",
    "        # word's weight\n",
    "        self.idf = {}\n",
    "        self.k1 = k1\n",
    "        self.k2 = k2\n",
    "        self.b = b\n",
    "        # obtain f and idf from input documents\n",
    "        self.init()\n",
    "\n",
    "    def init(self):\n",
    "        # \n",
    "        df = {}\n",
    "        for document in self.documents_list:\n",
    "            # word frequency in current document\n",
    "            temp = {}\n",
    "            # stat\n",
    "            for word in document:\n",
    "                temp[word] = temp.get(word, 0) + 1\n",
    "            # save word frequency\n",
    "            self.f.append(temp)\n",
    "            # the number of documents containing the word key\n",
    "            for key in temp.keys():\n",
    "                df[key] = df.get(key, 0) + 1\n",
    "        # compute word's idf\n",
    "        for key, value in df.items():\n",
    "            self.idf[key] = np.log((self.documents_number - value + 0.5) / (value + 0.5))\n",
    "            \n",
    "    # compute similarity score bewteen query and index-th document in all documents\n",
    "    def get_score(self, index, query):\n",
    "        score = 0.0\n",
    "        document_len = len(self.f[index])\n",
    "        qf = Counter(query)\n",
    "        for q in query:\n",
    "            if q not in self.f[index]:\n",
    "                continue\n",
    "            score += self.idf[q] * (self.f[index][q] * (self.k1 + 1) / (\n",
    "                        self.f[index][q] + self.k1 * (1 - self.b + self.b * document_len / self.avg_documents_len))) * (\n",
    "                                 qf[q] * (self.k2 + 1) / (qf[q] + self.k2))\n",
    "\n",
    "        return score\n",
    "    # compute simialrity scores between query and all documents\n",
    "    def get_documents_score(self, query):\n",
    "        score_list = []\n",
    "        for i in range(self.documents_number):\n",
    "            score_list.append(self.get_score(i, query))\n",
    "        return score_list"
   ]
  },
  {
   "cell_type": "markdown",
   "id": "8b6fbc2d",
   "metadata": {},
   "source": [
    "# Practice"
   ]
  },
  {
   "cell_type": "markdown",
   "id": "92d7abd6",
   "metadata": {},
   "source": [
    "Q1. Use the above BM25 model to compute the similary of a given query and documents"
   ]
  },
  {
   "cell_type": "code",
   "execution_count": null,
   "id": "8215a372",
   "metadata": {
    "pycharm": {
     "is_executing": true
    }
   },
   "outputs": [],
   "source": [
    "query = \"This is second documents\"\n",
    "corpus = [\n",
    "    'this is the first document',\n",
    "    'this is the second second document',\n",
    "    'and the third one',\n",
    "    'is this the first document'\n",
    "]\n",
    "\n"
   ]
  },
  {
   "cell_type": "code",
   "execution_count": null,
   "id": "508836fc",
   "metadata": {},
   "outputs": [],
   "source": [
    "BM25_Model()"
   ]
  }
 ],
 "metadata": {
  "kernelspec": {
   "display_name": "Python 3 (ipykernel)",
   "language": "python",
   "name": "python3"
  },
  "language_info": {
   "codemirror_mode": {
    "name": "ipython",
    "version": 3
   },
   "file_extension": ".py",
   "mimetype": "text/x-python",
   "name": "python",
   "nbconvert_exporter": "python",
   "pygments_lexer": "ipython3",
   "version": "3.9.7"
  }
 },
 "nbformat": 4,
 "nbformat_minor": 5
}
