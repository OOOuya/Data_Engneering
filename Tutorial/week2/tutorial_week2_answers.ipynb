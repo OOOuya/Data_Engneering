{
 "cells": [
  {
   "cell_type": "code",
   "execution_count": null,
   "id": "fea77c56",
   "metadata": {},
   "outputs": [],
   "source": [
    "url = r'https://english.news.cn/20220904/b1955558af1c4179a355fab10b1ee28f/c.html'\n",
    "res = r.get(url)\n",
    "bf = BeautifulSoup(res.text)"
   ]
  },
  {
   "cell_type": "code",
   "execution_count": null,
   "id": "316ff9ad",
   "metadata": {},
   "outputs": [],
   "source": [
    "# Title\n",
    "print(bf.find_all(\"h1\")[0].text)"
   ]
  },
  {
   "cell_type": "code",
   "execution_count": null,
   "id": "20761581",
   "metadata": {},
   "outputs": [],
   "source": [
    "# source\n",
    "print(bf.find(\"p\", attrs={\"class\":\"source\"}).text)"
   ]
  },
  {
   "cell_type": "code",
   "execution_count": null,
   "id": "e51ecf9f",
   "metadata": {},
   "outputs": [],
   "source": [
    "# source\n",
    "print(bf.find(\"p\", attrs={\"class\":\"editor\"}).text)"
   ]
  },
  {
   "cell_type": "code",
   "execution_count": null,
   "id": "937a3b44",
   "metadata": {},
   "outputs": [],
   "source": [
    "for item in bf.find(\"div\", id=\"detailContent\"):\n",
    "    print(item.text)"
   ]
  }
 ],
 "metadata": {
  "kernelspec": {
   "display_name": "Python 3 (ipykernel)",
   "language": "python",
   "name": "python3"
  },
  "language_info": {
   "codemirror_mode": {
    "name": "ipython",
    "version": 3
   },
   "file_extension": ".py",
   "mimetype": "text/x-python",
   "name": "python",
   "nbconvert_exporter": "python",
   "pygments_lexer": "ipython3",
   "version": "3.9.12"
  }
 },
 "nbformat": 4,
 "nbformat_minor": 5
}
