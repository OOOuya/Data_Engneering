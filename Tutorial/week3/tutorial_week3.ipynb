{
 "cells": [
  {
   "cell_type": "markdown",
   "metadata": {
    "pycharm": {
     "name": "#%% md\n"
    }
   },
   "source": [
    "# CS5481 - Tutorial 3\n",
    "## Data Preprocessing and Regularization Expression\n",
    "\n",
    "Welcome to CS5481 tutorial. In this tutorial, you will learn to how to prerpocess data you colleted with Pandas and be familar with Regular Expression and utilize it to process text data.\n",
    "\n",
    "## Preparation\n",
    "- Python\n",
    "- Python Libraries\n",
    "- - Pandas\n",
    "- - re"
   ]
  },
  {
   "cell_type": "code",
   "execution_count": null,
   "metadata": {
    "pycharm": {
     "name": "#%%\n"
    }
   },
   "outputs": [],
   "source": [
    "!pip install pandas"
   ]
  },
  {
   "cell_type": "markdown",
   "metadata": {
    "pycharm": {
     "name": "#%% md\n"
    }
   },
   "source": [
    "## 1. Import Libraries"
   ]
  },
  {
   "cell_type": "code",
   "execution_count": 2,
   "metadata": {
    "pycharm": {
     "name": "#%%\n"
    }
   },
   "outputs": [],
   "source": [
    "import pandas as pd"
   ]
  },
  {
   "cell_type": "markdown",
   "metadata": {
    "pycharm": {
     "name": "#%% md\n"
    }
   },
   "source": [
    "## 2. Data Processing\n",
    "- Data Cleaning\n",
    "\n",
    "Data cleansing or data cleaning is the process of detecting and correcting (or removing) corrupt or inaccurate records from a record set, table, or database and refers to identifying incomplete, incorrect, inaccurate or irrelevant parts of the data and then replacing, modifying, or deleting the dirty or coarse data. Data cleansing may be performed interactively with data wrangling tools, or as batch processing through scripting or a data quality firewall.\n",
    "\n",
    "- Data Reduction\n",
    "\n",
    "Data reduction is the transformation of numerical or alphabetical digital information derived empirically or experimentally into a corrected, ordered, and simplified form. The purpose of data reduction can be two-fold: reduce the number of data records by eliminating invalid data or produce summary data and statistics at different aggregation levels for various applications.\n",
    "\n",
    "- Data Transformation\n",
    "\n",
    "In computing, data transformation is the process of converting data from one format or structure into another format or structure. This step's purpose is to provide data easier to be processed by the following process steps.\n"
   ]
  },
  {
   "cell_type": "markdown",
   "metadata": {
    "pycharm": {
     "name": "#%% md\n"
    }
   },
   "source": [
    "### 2.1 Data Cleaning\n",
    "- Basic Operations\n",
    "- Check NAN Data\n",
    "- Check Unreasonable Data\n",
    "- Check Replicated Data\n",
    "- Constrain Data Type\n",
    "- Save Files"
   ]
  },
  {
   "cell_type": "code",
   "execution_count": 3,
   "metadata": {
    "pycharm": {
     "name": "#%%\n"
    }
   },
   "outputs": [],
   "source": [
    "data = pd.read_csv(r'movie_metadata.csv', encoding=\"utf-8\")"
   ]
  },
  {
   "cell_type": "markdown",
   "metadata": {
    "pycharm": {
     "name": "#%% md\n"
    }
   },
   "source": [
    "- Basic Operations"
   ]
  },
  {
   "cell_type": "code",
   "execution_count": 4,
   "metadata": {
    "pycharm": {
     "name": "#%%\n"
    }
   },
   "outputs": [
    {
     "data": {
      "text/plain": "   color      director_name  num_critic_for_reviews  duration  \\\n0  Color      James Cameron                   723.0     178.0   \n1  Color     Gore Verbinski                   302.0     169.0   \n2  Color         Sam Mendes                   602.0     148.0   \n3  Color  Christopher Nolan                   813.0     164.0   \n4    NaN        Doug Walker                     NaN       NaN   \n\n   director_facebook_likes  actor_3_facebook_likes      actor_2_name  \\\n0                      0.0                   855.0  Joel David Moore   \n1                    563.0                  1000.0     Orlando Bloom   \n2                      0.0                   161.0      Rory Kinnear   \n3                  22000.0                 23000.0    Christian Bale   \n4                    131.0                     NaN        Rob Walker   \n\n   actor_1_facebook_likes        gross                           genres  ...  \\\n0                  1000.0  760505847.0  Action|Adventure|Fantasy|Sci-Fi  ...   \n1                 40000.0  309404152.0         Action|Adventure|Fantasy  ...   \n2                 11000.0  200074175.0        Action|Adventure|Thriller  ...   \n3                 27000.0  448130642.0                  Action|Thriller  ...   \n4                   131.0          NaN                      Documentary  ...   \n\n  num_user_for_reviews language  country  content_rating       budget  \\\n0               3054.0  English      USA           PG-13  237000000.0   \n1               1238.0  English      USA           PG-13  300000000.0   \n2                994.0  English       UK           PG-13  245000000.0   \n3               2701.0  English      USA           PG-13  250000000.0   \n4                  NaN      NaN      NaN             NaN          NaN   \n\n   title_year actor_2_facebook_likes imdb_score  aspect_ratio  \\\n0      2009.0                  936.0        7.9          1.78   \n1      2007.0                 5000.0        7.1          2.35   \n2      2015.0                  393.0        6.8          2.35   \n3      2012.0                23000.0        8.5          2.35   \n4         NaN                   12.0        7.1           NaN   \n\n  movie_facebook_likes  \n0                33000  \n1                    0  \n2                85000  \n3               164000  \n4                    0  \n\n[5 rows x 28 columns]",
      "text/html": "<div>\n<style scoped>\n    .dataframe tbody tr th:only-of-type {\n        vertical-align: middle;\n    }\n\n    .dataframe tbody tr th {\n        vertical-align: top;\n    }\n\n    .dataframe thead th {\n        text-align: right;\n    }\n</style>\n<table border=\"1\" class=\"dataframe\">\n  <thead>\n    <tr style=\"text-align: right;\">\n      <th></th>\n      <th>color</th>\n      <th>director_name</th>\n      <th>num_critic_for_reviews</th>\n      <th>duration</th>\n      <th>director_facebook_likes</th>\n      <th>actor_3_facebook_likes</th>\n      <th>actor_2_name</th>\n      <th>actor_1_facebook_likes</th>\n      <th>gross</th>\n      <th>genres</th>\n      <th>...</th>\n      <th>num_user_for_reviews</th>\n      <th>language</th>\n      <th>country</th>\n      <th>content_rating</th>\n      <th>budget</th>\n      <th>title_year</th>\n      <th>actor_2_facebook_likes</th>\n      <th>imdb_score</th>\n      <th>aspect_ratio</th>\n      <th>movie_facebook_likes</th>\n    </tr>\n  </thead>\n  <tbody>\n    <tr>\n      <th>0</th>\n      <td>Color</td>\n      <td>James Cameron</td>\n      <td>723.0</td>\n      <td>178.0</td>\n      <td>0.0</td>\n      <td>855.0</td>\n      <td>Joel David Moore</td>\n      <td>1000.0</td>\n      <td>760505847.0</td>\n      <td>Action|Adventure|Fantasy|Sci-Fi</td>\n      <td>...</td>\n      <td>3054.0</td>\n      <td>English</td>\n      <td>USA</td>\n      <td>PG-13</td>\n      <td>237000000.0</td>\n      <td>2009.0</td>\n      <td>936.0</td>\n      <td>7.9</td>\n      <td>1.78</td>\n      <td>33000</td>\n    </tr>\n    <tr>\n      <th>1</th>\n      <td>Color</td>\n      <td>Gore Verbinski</td>\n      <td>302.0</td>\n      <td>169.0</td>\n      <td>563.0</td>\n      <td>1000.0</td>\n      <td>Orlando Bloom</td>\n      <td>40000.0</td>\n      <td>309404152.0</td>\n      <td>Action|Adventure|Fantasy</td>\n      <td>...</td>\n      <td>1238.0</td>\n      <td>English</td>\n      <td>USA</td>\n      <td>PG-13</td>\n      <td>300000000.0</td>\n      <td>2007.0</td>\n      <td>5000.0</td>\n      <td>7.1</td>\n      <td>2.35</td>\n      <td>0</td>\n    </tr>\n    <tr>\n      <th>2</th>\n      <td>Color</td>\n      <td>Sam Mendes</td>\n      <td>602.0</td>\n      <td>148.0</td>\n      <td>0.0</td>\n      <td>161.0</td>\n      <td>Rory Kinnear</td>\n      <td>11000.0</td>\n      <td>200074175.0</td>\n      <td>Action|Adventure|Thriller</td>\n      <td>...</td>\n      <td>994.0</td>\n      <td>English</td>\n      <td>UK</td>\n      <td>PG-13</td>\n      <td>245000000.0</td>\n      <td>2015.0</td>\n      <td>393.0</td>\n      <td>6.8</td>\n      <td>2.35</td>\n      <td>85000</td>\n    </tr>\n    <tr>\n      <th>3</th>\n      <td>Color</td>\n      <td>Christopher Nolan</td>\n      <td>813.0</td>\n      <td>164.0</td>\n      <td>22000.0</td>\n      <td>23000.0</td>\n      <td>Christian Bale</td>\n      <td>27000.0</td>\n      <td>448130642.0</td>\n      <td>Action|Thriller</td>\n      <td>...</td>\n      <td>2701.0</td>\n      <td>English</td>\n      <td>USA</td>\n      <td>PG-13</td>\n      <td>250000000.0</td>\n      <td>2012.0</td>\n      <td>23000.0</td>\n      <td>8.5</td>\n      <td>2.35</td>\n      <td>164000</td>\n    </tr>\n    <tr>\n      <th>4</th>\n      <td>NaN</td>\n      <td>Doug Walker</td>\n      <td>NaN</td>\n      <td>NaN</td>\n      <td>131.0</td>\n      <td>NaN</td>\n      <td>Rob Walker</td>\n      <td>131.0</td>\n      <td>NaN</td>\n      <td>Documentary</td>\n      <td>...</td>\n      <td>NaN</td>\n      <td>NaN</td>\n      <td>NaN</td>\n      <td>NaN</td>\n      <td>NaN</td>\n      <td>NaN</td>\n      <td>12.0</td>\n      <td>7.1</td>\n      <td>NaN</td>\n      <td>0</td>\n    </tr>\n  </tbody>\n</table>\n<p>5 rows × 28 columns</p>\n</div>"
     },
     "execution_count": 4,
     "metadata": {},
     "output_type": "execute_result"
    }
   ],
   "source": [
    "# show the first 5 lines of the file\n",
    "data.head()"
   ]
  },
  {
   "cell_type": "code",
   "execution_count": 5,
   "metadata": {
    "pycharm": {
     "name": "#%%\n"
    }
   },
   "outputs": [
    {
     "data": {
      "text/plain": "      color     director_name  num_critic_for_reviews  duration  \\\n5038  Color       Scott Smith                     1.0      87.0   \n5039  Color               NaN                    43.0      43.0   \n5040  Color  Benjamin Roberds                    13.0      76.0   \n5041  Color       Daniel Hsia                    14.0     100.0   \n5042  Color          Jon Gunn                    43.0      90.0   \n\n      director_facebook_likes  actor_3_facebook_likes      actor_2_name  \\\n5038                      2.0                   318.0     Daphne Zuniga   \n5039                      NaN                   319.0     Valorie Curry   \n5040                      0.0                     0.0     Maxwell Moody   \n5041                      0.0                   489.0     Daniel Henney   \n5042                     16.0                    16.0  Brian Herzlinger   \n\n      actor_1_facebook_likes    gross                        genres  ...  \\\n5038                   637.0      NaN                  Comedy|Drama  ...   \n5039                   841.0      NaN  Crime|Drama|Mystery|Thriller  ...   \n5040                     0.0      NaN         Drama|Horror|Thriller  ...   \n5041                   946.0  10443.0          Comedy|Drama|Romance  ...   \n5042                    86.0  85222.0                   Documentary  ...   \n\n     num_user_for_reviews language  country  content_rating  budget  \\\n5038                  6.0  English   Canada             NaN     NaN   \n5039                359.0  English      USA           TV-14     NaN   \n5040                  3.0  English      USA             NaN  1400.0   \n5041                  9.0  English      USA           PG-13     NaN   \n5042                 84.0  English      USA              PG  1100.0   \n\n      title_year actor_2_facebook_likes imdb_score  aspect_ratio  \\\n5038      2013.0                  470.0        7.7           NaN   \n5039         NaN                  593.0        7.5         16.00   \n5040      2013.0                    0.0        6.3           NaN   \n5041      2012.0                  719.0        6.3          2.35   \n5042      2004.0                   23.0        6.6          1.85   \n\n     movie_facebook_likes  \n5038                   84  \n5039                32000  \n5040                   16  \n5041                  660  \n5042                  456  \n\n[5 rows x 28 columns]",
      "text/html": "<div>\n<style scoped>\n    .dataframe tbody tr th:only-of-type {\n        vertical-align: middle;\n    }\n\n    .dataframe tbody tr th {\n        vertical-align: top;\n    }\n\n    .dataframe thead th {\n        text-align: right;\n    }\n</style>\n<table border=\"1\" class=\"dataframe\">\n  <thead>\n    <tr style=\"text-align: right;\">\n      <th></th>\n      <th>color</th>\n      <th>director_name</th>\n      <th>num_critic_for_reviews</th>\n      <th>duration</th>\n      <th>director_facebook_likes</th>\n      <th>actor_3_facebook_likes</th>\n      <th>actor_2_name</th>\n      <th>actor_1_facebook_likes</th>\n      <th>gross</th>\n      <th>genres</th>\n      <th>...</th>\n      <th>num_user_for_reviews</th>\n      <th>language</th>\n      <th>country</th>\n      <th>content_rating</th>\n      <th>budget</th>\n      <th>title_year</th>\n      <th>actor_2_facebook_likes</th>\n      <th>imdb_score</th>\n      <th>aspect_ratio</th>\n      <th>movie_facebook_likes</th>\n    </tr>\n  </thead>\n  <tbody>\n    <tr>\n      <th>5038</th>\n      <td>Color</td>\n      <td>Scott Smith</td>\n      <td>1.0</td>\n      <td>87.0</td>\n      <td>2.0</td>\n      <td>318.0</td>\n      <td>Daphne Zuniga</td>\n      <td>637.0</td>\n      <td>NaN</td>\n      <td>Comedy|Drama</td>\n      <td>...</td>\n      <td>6.0</td>\n      <td>English</td>\n      <td>Canada</td>\n      <td>NaN</td>\n      <td>NaN</td>\n      <td>2013.0</td>\n      <td>470.0</td>\n      <td>7.7</td>\n      <td>NaN</td>\n      <td>84</td>\n    </tr>\n    <tr>\n      <th>5039</th>\n      <td>Color</td>\n      <td>NaN</td>\n      <td>43.0</td>\n      <td>43.0</td>\n      <td>NaN</td>\n      <td>319.0</td>\n      <td>Valorie Curry</td>\n      <td>841.0</td>\n      <td>NaN</td>\n      <td>Crime|Drama|Mystery|Thriller</td>\n      <td>...</td>\n      <td>359.0</td>\n      <td>English</td>\n      <td>USA</td>\n      <td>TV-14</td>\n      <td>NaN</td>\n      <td>NaN</td>\n      <td>593.0</td>\n      <td>7.5</td>\n      <td>16.00</td>\n      <td>32000</td>\n    </tr>\n    <tr>\n      <th>5040</th>\n      <td>Color</td>\n      <td>Benjamin Roberds</td>\n      <td>13.0</td>\n      <td>76.0</td>\n      <td>0.0</td>\n      <td>0.0</td>\n      <td>Maxwell Moody</td>\n      <td>0.0</td>\n      <td>NaN</td>\n      <td>Drama|Horror|Thriller</td>\n      <td>...</td>\n      <td>3.0</td>\n      <td>English</td>\n      <td>USA</td>\n      <td>NaN</td>\n      <td>1400.0</td>\n      <td>2013.0</td>\n      <td>0.0</td>\n      <td>6.3</td>\n      <td>NaN</td>\n      <td>16</td>\n    </tr>\n    <tr>\n      <th>5041</th>\n      <td>Color</td>\n      <td>Daniel Hsia</td>\n      <td>14.0</td>\n      <td>100.0</td>\n      <td>0.0</td>\n      <td>489.0</td>\n      <td>Daniel Henney</td>\n      <td>946.0</td>\n      <td>10443.0</td>\n      <td>Comedy|Drama|Romance</td>\n      <td>...</td>\n      <td>9.0</td>\n      <td>English</td>\n      <td>USA</td>\n      <td>PG-13</td>\n      <td>NaN</td>\n      <td>2012.0</td>\n      <td>719.0</td>\n      <td>6.3</td>\n      <td>2.35</td>\n      <td>660</td>\n    </tr>\n    <tr>\n      <th>5042</th>\n      <td>Color</td>\n      <td>Jon Gunn</td>\n      <td>43.0</td>\n      <td>90.0</td>\n      <td>16.0</td>\n      <td>16.0</td>\n      <td>Brian Herzlinger</td>\n      <td>86.0</td>\n      <td>85222.0</td>\n      <td>Documentary</td>\n      <td>...</td>\n      <td>84.0</td>\n      <td>English</td>\n      <td>USA</td>\n      <td>PG</td>\n      <td>1100.0</td>\n      <td>2004.0</td>\n      <td>23.0</td>\n      <td>6.6</td>\n      <td>1.85</td>\n      <td>456</td>\n    </tr>\n  </tbody>\n</table>\n<p>5 rows × 28 columns</p>\n</div>"
     },
     "execution_count": 5,
     "metadata": {},
     "output_type": "execute_result"
    }
   ],
   "source": [
    "# show the last 5 lines of the file\n",
    "data.tail()"
   ]
  },
  {
   "cell_type": "code",
   "execution_count": 6,
   "metadata": {
    "pycharm": {
     "name": "#%%\n"
    }
   },
   "outputs": [
    {
     "data": {
      "text/plain": "count    5028.000000\nmean      107.201074\nstd        25.197441\nmin         7.000000\n25%        93.000000\n50%       103.000000\n75%       118.000000\nmax       511.000000\nName: duration, dtype: float64"
     },
     "execution_count": 6,
     "metadata": {},
     "output_type": "execute_result"
    }
   ],
   "source": [
    "# check stat info of columns: data.columnname.describe()\n",
    "data.duration.describe()"
   ]
  },
  {
   "cell_type": "code",
   "execution_count": 7,
   "metadata": {
    "pycharm": {
     "name": "#%%\n"
    }
   },
   "outputs": [
    {
     "data": {
      "text/plain": "0       Color\n1       Color\n2       Color\n3       Color\n4         NaN\n        ...  \n5038    Color\n5039    Color\n5040    Color\n5041    Color\n5042    Color\nName: color, Length: 5043, dtype: object"
     },
     "execution_count": 7,
     "metadata": {},
     "output_type": "execute_result"
    }
   ],
   "source": [
    "# choose a column: data[columnname]\n",
    "data['color']"
   ]
  },
  {
   "cell_type": "code",
   "execution_count": 8,
   "metadata": {
    "pycharm": {
     "name": "#%%\n"
    }
   },
   "outputs": [
    {
     "data": {
      "text/plain": "0    Color\n1    Color\n2    Color\n3    Color\n4      NaN\n5    Color\n6    Color\n7    Color\n8    Color\n9    Color\nName: color, dtype: object"
     },
     "execution_count": 8,
     "metadata": {},
     "output_type": "execute_result"
    }
   ],
   "source": [
    "# choose the first K lines: data['columnname'][:K]\n",
    "K = 10\n",
    "data[\"color\"][:K]"
   ]
  },
  {
   "cell_type": "code",
   "execution_count": 9,
   "metadata": {
    "pycharm": {
     "name": "#%%\n"
    }
   },
   "outputs": [
    {
     "data": {
      "text/plain": "      color      director_name\n0     Color      James Cameron\n1     Color     Gore Verbinski\n2     Color         Sam Mendes\n3     Color  Christopher Nolan\n4       NaN        Doug Walker\n...     ...                ...\n5038  Color        Scott Smith\n5039  Color                NaN\n5040  Color   Benjamin Roberds\n5041  Color        Daniel Hsia\n5042  Color           Jon Gunn\n\n[5043 rows x 2 columns]",
      "text/html": "<div>\n<style scoped>\n    .dataframe tbody tr th:only-of-type {\n        vertical-align: middle;\n    }\n\n    .dataframe tbody tr th {\n        vertical-align: top;\n    }\n\n    .dataframe thead th {\n        text-align: right;\n    }\n</style>\n<table border=\"1\" class=\"dataframe\">\n  <thead>\n    <tr style=\"text-align: right;\">\n      <th></th>\n      <th>color</th>\n      <th>director_name</th>\n    </tr>\n  </thead>\n  <tbody>\n    <tr>\n      <th>0</th>\n      <td>Color</td>\n      <td>James Cameron</td>\n    </tr>\n    <tr>\n      <th>1</th>\n      <td>Color</td>\n      <td>Gore Verbinski</td>\n    </tr>\n    <tr>\n      <th>2</th>\n      <td>Color</td>\n      <td>Sam Mendes</td>\n    </tr>\n    <tr>\n      <th>3</th>\n      <td>Color</td>\n      <td>Christopher Nolan</td>\n    </tr>\n    <tr>\n      <th>4</th>\n      <td>NaN</td>\n      <td>Doug Walker</td>\n    </tr>\n    <tr>\n      <th>...</th>\n      <td>...</td>\n      <td>...</td>\n    </tr>\n    <tr>\n      <th>5038</th>\n      <td>Color</td>\n      <td>Scott Smith</td>\n    </tr>\n    <tr>\n      <th>5039</th>\n      <td>Color</td>\n      <td>NaN</td>\n    </tr>\n    <tr>\n      <th>5040</th>\n      <td>Color</td>\n      <td>Benjamin Roberds</td>\n    </tr>\n    <tr>\n      <th>5041</th>\n      <td>Color</td>\n      <td>Daniel Hsia</td>\n    </tr>\n    <tr>\n      <th>5042</th>\n      <td>Color</td>\n      <td>Jon Gunn</td>\n    </tr>\n  </tbody>\n</table>\n<p>5043 rows × 2 columns</p>\n</div>"
     },
     "execution_count": 9,
     "metadata": {},
     "output_type": "execute_result"
    }
   ],
   "source": [
    "# choose multiple columns: data[[\"column1\", \"column2\"]]\n",
    "data[[\"color\", \"director_name\"]]\n"
   ]
  },
  {
   "cell_type": "code",
   "execution_count": 10,
   "metadata": {
    "pycharm": {
     "name": "#%%\n"
    }
   },
   "outputs": [
    {
     "data": {
      "text/plain": "                 color      director_name  num_critic_for_reviews  duration  \\\n0                Color      James Cameron                   723.0     178.0   \n1                Color     Gore Verbinski                   302.0     169.0   \n3                Color  Christopher Nolan                   813.0     164.0   \n6                Color          Sam Raimi                   392.0     156.0   \n9                Color        David Yates                   375.0     153.0   \n...                ...                ...                     ...       ...   \n4688             Color        Steve James                    53.0     170.0   \n4694             Color      Peter Jackson                   446.0     201.0   \n4708             Color   Michael Wadleigh                    53.0     215.0   \n4747   Black and White     Akira Kurosawa                   153.0     202.0   \n4885   Black and White         King Vidor                    48.0     151.0   \n\n      director_facebook_likes  actor_3_facebook_likes        actor_2_name  \\\n0                         0.0                   855.0    Joel David Moore   \n1                       563.0                  1000.0       Orlando Bloom   \n3                     22000.0                 23000.0      Christian Bale   \n6                         0.0                  4000.0        James Franco   \n9                       282.0                 10000.0    Daniel Radcliffe   \n...                       ...                     ...                 ...   \n4688                     23.0                     2.0         Arthur Agee   \n4694                      0.0                    84.0  Thomas Kretschmann   \n4708                     14.0                   136.0        Jimi Hendrix   \n4747                      0.0                     4.0       Minoru Chiaki   \n4885                     54.0                     6.0        Renée Adorée   \n\n      actor_1_facebook_likes        gross                            genres  \\\n0                     1000.0  760505847.0   Action|Adventure|Fantasy|Sci-Fi   \n1                    40000.0  309404152.0          Action|Adventure|Fantasy   \n3                    27000.0  448130642.0                   Action|Thriller   \n6                    24000.0  336530303.0          Action|Adventure|Romance   \n9                    25000.0  301956980.0  Adventure|Family|Fantasy|Mystery   \n...                      ...          ...                               ...   \n4688                     7.0    7830611.0           Documentary|Drama|Sport   \n4694                  6000.0  218051260.0    Action|Adventure|Drama|Romance   \n4708                   262.0   13300000.0         Documentary|History|Music   \n4747                   304.0     269061.0            Action|Adventure|Drama   \n4885                    81.0          NaN                 Drama|Romance|War   \n\n      ... num_user_for_reviews  language      country  content_rating  \\\n0     ...               3054.0   English          USA           PG-13   \n1     ...               1238.0   English          USA           PG-13   \n3     ...               2701.0   English          USA           PG-13   \n6     ...               1902.0   English          USA           PG-13   \n9     ...                973.0   English           UK              PG   \n...   ...                  ...       ...          ...             ...   \n4688  ...                 74.0   English          USA           PG-13   \n4694  ...               2618.0   English  New Zealand           PG-13   \n4708  ...                 63.0   English          USA               R   \n4747  ...                596.0  Japanese        Japan         Unrated   \n4885  ...                 45.0       NaN          USA       Not Rated   \n\n           budget  title_year actor_2_facebook_likes imdb_score  aspect_ratio  \\\n0     237000000.0      2009.0                  936.0        7.9          1.78   \n1     300000000.0      2007.0                 5000.0        7.1          2.35   \n3     250000000.0      2012.0                23000.0        8.5          2.35   \n6     258000000.0      2007.0                11000.0        6.2          2.35   \n9     250000000.0      2009.0                11000.0        7.5          2.35   \n...           ...         ...                    ...        ...           ...   \n4688     700000.0      1994.0                    6.0        8.3          1.33   \n4694  207000000.0      2005.0                  918.0        7.2          2.35   \n4708     600000.0      1970.0                  227.0        8.1          2.20   \n4747    2000000.0      1954.0                    8.0        8.7          1.37   \n4885     245000.0      1925.0                   12.0        8.3          1.33   \n\n     movie_facebook_likes  \n0                   33000  \n1                       0  \n3                  164000  \n6                       0  \n9                   10000  \n...                   ...  \n4688                    0  \n4694                    0  \n4708                    0  \n4747                11000  \n4885                  226  \n\n[205 rows x 28 columns]",
      "text/html": "<div>\n<style scoped>\n    .dataframe tbody tr th:only-of-type {\n        vertical-align: middle;\n    }\n\n    .dataframe tbody tr th {\n        vertical-align: top;\n    }\n\n    .dataframe thead th {\n        text-align: right;\n    }\n</style>\n<table border=\"1\" class=\"dataframe\">\n  <thead>\n    <tr style=\"text-align: right;\">\n      <th></th>\n      <th>color</th>\n      <th>director_name</th>\n      <th>num_critic_for_reviews</th>\n      <th>duration</th>\n      <th>director_facebook_likes</th>\n      <th>actor_3_facebook_likes</th>\n      <th>actor_2_name</th>\n      <th>actor_1_facebook_likes</th>\n      <th>gross</th>\n      <th>genres</th>\n      <th>...</th>\n      <th>num_user_for_reviews</th>\n      <th>language</th>\n      <th>country</th>\n      <th>content_rating</th>\n      <th>budget</th>\n      <th>title_year</th>\n      <th>actor_2_facebook_likes</th>\n      <th>imdb_score</th>\n      <th>aspect_ratio</th>\n      <th>movie_facebook_likes</th>\n    </tr>\n  </thead>\n  <tbody>\n    <tr>\n      <th>0</th>\n      <td>Color</td>\n      <td>James Cameron</td>\n      <td>723.0</td>\n      <td>178.0</td>\n      <td>0.0</td>\n      <td>855.0</td>\n      <td>Joel David Moore</td>\n      <td>1000.0</td>\n      <td>760505847.0</td>\n      <td>Action|Adventure|Fantasy|Sci-Fi</td>\n      <td>...</td>\n      <td>3054.0</td>\n      <td>English</td>\n      <td>USA</td>\n      <td>PG-13</td>\n      <td>237000000.0</td>\n      <td>2009.0</td>\n      <td>936.0</td>\n      <td>7.9</td>\n      <td>1.78</td>\n      <td>33000</td>\n    </tr>\n    <tr>\n      <th>1</th>\n      <td>Color</td>\n      <td>Gore Verbinski</td>\n      <td>302.0</td>\n      <td>169.0</td>\n      <td>563.0</td>\n      <td>1000.0</td>\n      <td>Orlando Bloom</td>\n      <td>40000.0</td>\n      <td>309404152.0</td>\n      <td>Action|Adventure|Fantasy</td>\n      <td>...</td>\n      <td>1238.0</td>\n      <td>English</td>\n      <td>USA</td>\n      <td>PG-13</td>\n      <td>300000000.0</td>\n      <td>2007.0</td>\n      <td>5000.0</td>\n      <td>7.1</td>\n      <td>2.35</td>\n      <td>0</td>\n    </tr>\n    <tr>\n      <th>3</th>\n      <td>Color</td>\n      <td>Christopher Nolan</td>\n      <td>813.0</td>\n      <td>164.0</td>\n      <td>22000.0</td>\n      <td>23000.0</td>\n      <td>Christian Bale</td>\n      <td>27000.0</td>\n      <td>448130642.0</td>\n      <td>Action|Thriller</td>\n      <td>...</td>\n      <td>2701.0</td>\n      <td>English</td>\n      <td>USA</td>\n      <td>PG-13</td>\n      <td>250000000.0</td>\n      <td>2012.0</td>\n      <td>23000.0</td>\n      <td>8.5</td>\n      <td>2.35</td>\n      <td>164000</td>\n    </tr>\n    <tr>\n      <th>6</th>\n      <td>Color</td>\n      <td>Sam Raimi</td>\n      <td>392.0</td>\n      <td>156.0</td>\n      <td>0.0</td>\n      <td>4000.0</td>\n      <td>James Franco</td>\n      <td>24000.0</td>\n      <td>336530303.0</td>\n      <td>Action|Adventure|Romance</td>\n      <td>...</td>\n      <td>1902.0</td>\n      <td>English</td>\n      <td>USA</td>\n      <td>PG-13</td>\n      <td>258000000.0</td>\n      <td>2007.0</td>\n      <td>11000.0</td>\n      <td>6.2</td>\n      <td>2.35</td>\n      <td>0</td>\n    </tr>\n    <tr>\n      <th>9</th>\n      <td>Color</td>\n      <td>David Yates</td>\n      <td>375.0</td>\n      <td>153.0</td>\n      <td>282.0</td>\n      <td>10000.0</td>\n      <td>Daniel Radcliffe</td>\n      <td>25000.0</td>\n      <td>301956980.0</td>\n      <td>Adventure|Family|Fantasy|Mystery</td>\n      <td>...</td>\n      <td>973.0</td>\n      <td>English</td>\n      <td>UK</td>\n      <td>PG</td>\n      <td>250000000.0</td>\n      <td>2009.0</td>\n      <td>11000.0</td>\n      <td>7.5</td>\n      <td>2.35</td>\n      <td>10000</td>\n    </tr>\n    <tr>\n      <th>...</th>\n      <td>...</td>\n      <td>...</td>\n      <td>...</td>\n      <td>...</td>\n      <td>...</td>\n      <td>...</td>\n      <td>...</td>\n      <td>...</td>\n      <td>...</td>\n      <td>...</td>\n      <td>...</td>\n      <td>...</td>\n      <td>...</td>\n      <td>...</td>\n      <td>...</td>\n      <td>...</td>\n      <td>...</td>\n      <td>...</td>\n      <td>...</td>\n      <td>...</td>\n      <td>...</td>\n    </tr>\n    <tr>\n      <th>4688</th>\n      <td>Color</td>\n      <td>Steve James</td>\n      <td>53.0</td>\n      <td>170.0</td>\n      <td>23.0</td>\n      <td>2.0</td>\n      <td>Arthur Agee</td>\n      <td>7.0</td>\n      <td>7830611.0</td>\n      <td>Documentary|Drama|Sport</td>\n      <td>...</td>\n      <td>74.0</td>\n      <td>English</td>\n      <td>USA</td>\n      <td>PG-13</td>\n      <td>700000.0</td>\n      <td>1994.0</td>\n      <td>6.0</td>\n      <td>8.3</td>\n      <td>1.33</td>\n      <td>0</td>\n    </tr>\n    <tr>\n      <th>4694</th>\n      <td>Color</td>\n      <td>Peter Jackson</td>\n      <td>446.0</td>\n      <td>201.0</td>\n      <td>0.0</td>\n      <td>84.0</td>\n      <td>Thomas Kretschmann</td>\n      <td>6000.0</td>\n      <td>218051260.0</td>\n      <td>Action|Adventure|Drama|Romance</td>\n      <td>...</td>\n      <td>2618.0</td>\n      <td>English</td>\n      <td>New Zealand</td>\n      <td>PG-13</td>\n      <td>207000000.0</td>\n      <td>2005.0</td>\n      <td>918.0</td>\n      <td>7.2</td>\n      <td>2.35</td>\n      <td>0</td>\n    </tr>\n    <tr>\n      <th>4708</th>\n      <td>Color</td>\n      <td>Michael Wadleigh</td>\n      <td>53.0</td>\n      <td>215.0</td>\n      <td>14.0</td>\n      <td>136.0</td>\n      <td>Jimi Hendrix</td>\n      <td>262.0</td>\n      <td>13300000.0</td>\n      <td>Documentary|History|Music</td>\n      <td>...</td>\n      <td>63.0</td>\n      <td>English</td>\n      <td>USA</td>\n      <td>R</td>\n      <td>600000.0</td>\n      <td>1970.0</td>\n      <td>227.0</td>\n      <td>8.1</td>\n      <td>2.20</td>\n      <td>0</td>\n    </tr>\n    <tr>\n      <th>4747</th>\n      <td>Black and White</td>\n      <td>Akira Kurosawa</td>\n      <td>153.0</td>\n      <td>202.0</td>\n      <td>0.0</td>\n      <td>4.0</td>\n      <td>Minoru Chiaki</td>\n      <td>304.0</td>\n      <td>269061.0</td>\n      <td>Action|Adventure|Drama</td>\n      <td>...</td>\n      <td>596.0</td>\n      <td>Japanese</td>\n      <td>Japan</td>\n      <td>Unrated</td>\n      <td>2000000.0</td>\n      <td>1954.0</td>\n      <td>8.0</td>\n      <td>8.7</td>\n      <td>1.37</td>\n      <td>11000</td>\n    </tr>\n    <tr>\n      <th>4885</th>\n      <td>Black and White</td>\n      <td>King Vidor</td>\n      <td>48.0</td>\n      <td>151.0</td>\n      <td>54.0</td>\n      <td>6.0</td>\n      <td>Renée Adorée</td>\n      <td>81.0</td>\n      <td>NaN</td>\n      <td>Drama|Romance|War</td>\n      <td>...</td>\n      <td>45.0</td>\n      <td>NaN</td>\n      <td>USA</td>\n      <td>Not Rated</td>\n      <td>245000.0</td>\n      <td>1925.0</td>\n      <td>12.0</td>\n      <td>8.3</td>\n      <td>1.33</td>\n      <td>226</td>\n    </tr>\n  </tbody>\n</table>\n<p>205 rows × 28 columns</p>\n</div>"
     },
     "execution_count": 10,
     "metadata": {},
     "output_type": "execute_result"
    }
   ],
   "source": [
    "# where filtering: data[data['columnname'] > condition]\n",
    "# choose films whose duration is larger than 150 mins\n",
    "data[data[\"duration\"] > 150]\n"
   ]
  },
  {
   "cell_type": "markdown",
   "metadata": {
    "pycharm": {
     "name": "#%% md\n"
    }
   },
   "source": [
    "- Process NAN Data\n",
    "1. fill value \n",
    "2. remove corresponding lines\n",
    "3. remove columns where many values are nan"
   ]
  },
  {
   "cell_type": "code",
   "execution_count": 11,
   "metadata": {
    "pycharm": {
     "name": "#%%\n"
    }
   },
   "outputs": [
    {
     "data": {
      "text/plain": "      color  director_name  num_critic_for_reviews  duration  \\\n0     False          False                   False     False   \n1     False          False                   False     False   \n2     False          False                   False     False   \n3     False          False                   False     False   \n4      True          False                    True      True   \n...     ...            ...                     ...       ...   \n5038  False          False                   False     False   \n5039  False           True                   False     False   \n5040  False          False                   False     False   \n5041  False          False                   False     False   \n5042  False          False                   False     False   \n\n      director_facebook_likes  actor_3_facebook_likes  actor_2_name  \\\n0                       False                   False         False   \n1                       False                   False         False   \n2                       False                   False         False   \n3                       False                   False         False   \n4                       False                    True         False   \n...                       ...                     ...           ...   \n5038                    False                   False         False   \n5039                     True                   False         False   \n5040                    False                   False         False   \n5041                    False                   False         False   \n5042                    False                   False         False   \n\n      actor_1_facebook_likes  gross  genres  ...  num_user_for_reviews  \\\n0                      False  False   False  ...                 False   \n1                      False  False   False  ...                 False   \n2                      False  False   False  ...                 False   \n3                      False  False   False  ...                 False   \n4                      False   True   False  ...                  True   \n...                      ...    ...     ...  ...                   ...   \n5038                   False   True   False  ...                 False   \n5039                   False   True   False  ...                 False   \n5040                   False   True   False  ...                 False   \n5041                   False  False   False  ...                 False   \n5042                   False  False   False  ...                 False   \n\n      language  country  content_rating  budget  title_year  \\\n0        False    False           False   False       False   \n1        False    False           False   False       False   \n2        False    False           False   False       False   \n3        False    False           False   False       False   \n4         True     True            True    True        True   \n...        ...      ...             ...     ...         ...   \n5038     False    False            True    True       False   \n5039     False    False           False    True        True   \n5040     False    False            True   False       False   \n5041     False    False           False    True       False   \n5042     False    False           False   False       False   \n\n      actor_2_facebook_likes  imdb_score  aspect_ratio  movie_facebook_likes  \n0                      False       False         False                 False  \n1                      False       False         False                 False  \n2                      False       False         False                 False  \n3                      False       False         False                 False  \n4                      False       False          True                 False  \n...                      ...         ...           ...                   ...  \n5038                   False       False          True                 False  \n5039                   False       False         False                 False  \n5040                   False       False          True                 False  \n5041                   False       False         False                 False  \n5042                   False       False         False                 False  \n\n[5043 rows x 28 columns]",
      "text/html": "<div>\n<style scoped>\n    .dataframe tbody tr th:only-of-type {\n        vertical-align: middle;\n    }\n\n    .dataframe tbody tr th {\n        vertical-align: top;\n    }\n\n    .dataframe thead th {\n        text-align: right;\n    }\n</style>\n<table border=\"1\" class=\"dataframe\">\n  <thead>\n    <tr style=\"text-align: right;\">\n      <th></th>\n      <th>color</th>\n      <th>director_name</th>\n      <th>num_critic_for_reviews</th>\n      <th>duration</th>\n      <th>director_facebook_likes</th>\n      <th>actor_3_facebook_likes</th>\n      <th>actor_2_name</th>\n      <th>actor_1_facebook_likes</th>\n      <th>gross</th>\n      <th>genres</th>\n      <th>...</th>\n      <th>num_user_for_reviews</th>\n      <th>language</th>\n      <th>country</th>\n      <th>content_rating</th>\n      <th>budget</th>\n      <th>title_year</th>\n      <th>actor_2_facebook_likes</th>\n      <th>imdb_score</th>\n      <th>aspect_ratio</th>\n      <th>movie_facebook_likes</th>\n    </tr>\n  </thead>\n  <tbody>\n    <tr>\n      <th>0</th>\n      <td>False</td>\n      <td>False</td>\n      <td>False</td>\n      <td>False</td>\n      <td>False</td>\n      <td>False</td>\n      <td>False</td>\n      <td>False</td>\n      <td>False</td>\n      <td>False</td>\n      <td>...</td>\n      <td>False</td>\n      <td>False</td>\n      <td>False</td>\n      <td>False</td>\n      <td>False</td>\n      <td>False</td>\n      <td>False</td>\n      <td>False</td>\n      <td>False</td>\n      <td>False</td>\n    </tr>\n    <tr>\n      <th>1</th>\n      <td>False</td>\n      <td>False</td>\n      <td>False</td>\n      <td>False</td>\n      <td>False</td>\n      <td>False</td>\n      <td>False</td>\n      <td>False</td>\n      <td>False</td>\n      <td>False</td>\n      <td>...</td>\n      <td>False</td>\n      <td>False</td>\n      <td>False</td>\n      <td>False</td>\n      <td>False</td>\n      <td>False</td>\n      <td>False</td>\n      <td>False</td>\n      <td>False</td>\n      <td>False</td>\n    </tr>\n    <tr>\n      <th>2</th>\n      <td>False</td>\n      <td>False</td>\n      <td>False</td>\n      <td>False</td>\n      <td>False</td>\n      <td>False</td>\n      <td>False</td>\n      <td>False</td>\n      <td>False</td>\n      <td>False</td>\n      <td>...</td>\n      <td>False</td>\n      <td>False</td>\n      <td>False</td>\n      <td>False</td>\n      <td>False</td>\n      <td>False</td>\n      <td>False</td>\n      <td>False</td>\n      <td>False</td>\n      <td>False</td>\n    </tr>\n    <tr>\n      <th>3</th>\n      <td>False</td>\n      <td>False</td>\n      <td>False</td>\n      <td>False</td>\n      <td>False</td>\n      <td>False</td>\n      <td>False</td>\n      <td>False</td>\n      <td>False</td>\n      <td>False</td>\n      <td>...</td>\n      <td>False</td>\n      <td>False</td>\n      <td>False</td>\n      <td>False</td>\n      <td>False</td>\n      <td>False</td>\n      <td>False</td>\n      <td>False</td>\n      <td>False</td>\n      <td>False</td>\n    </tr>\n    <tr>\n      <th>4</th>\n      <td>True</td>\n      <td>False</td>\n      <td>True</td>\n      <td>True</td>\n      <td>False</td>\n      <td>True</td>\n      <td>False</td>\n      <td>False</td>\n      <td>True</td>\n      <td>False</td>\n      <td>...</td>\n      <td>True</td>\n      <td>True</td>\n      <td>True</td>\n      <td>True</td>\n      <td>True</td>\n      <td>True</td>\n      <td>False</td>\n      <td>False</td>\n      <td>True</td>\n      <td>False</td>\n    </tr>\n    <tr>\n      <th>...</th>\n      <td>...</td>\n      <td>...</td>\n      <td>...</td>\n      <td>...</td>\n      <td>...</td>\n      <td>...</td>\n      <td>...</td>\n      <td>...</td>\n      <td>...</td>\n      <td>...</td>\n      <td>...</td>\n      <td>...</td>\n      <td>...</td>\n      <td>...</td>\n      <td>...</td>\n      <td>...</td>\n      <td>...</td>\n      <td>...</td>\n      <td>...</td>\n      <td>...</td>\n      <td>...</td>\n    </tr>\n    <tr>\n      <th>5038</th>\n      <td>False</td>\n      <td>False</td>\n      <td>False</td>\n      <td>False</td>\n      <td>False</td>\n      <td>False</td>\n      <td>False</td>\n      <td>False</td>\n      <td>True</td>\n      <td>False</td>\n      <td>...</td>\n      <td>False</td>\n      <td>False</td>\n      <td>False</td>\n      <td>True</td>\n      <td>True</td>\n      <td>False</td>\n      <td>False</td>\n      <td>False</td>\n      <td>True</td>\n      <td>False</td>\n    </tr>\n    <tr>\n      <th>5039</th>\n      <td>False</td>\n      <td>True</td>\n      <td>False</td>\n      <td>False</td>\n      <td>True</td>\n      <td>False</td>\n      <td>False</td>\n      <td>False</td>\n      <td>True</td>\n      <td>False</td>\n      <td>...</td>\n      <td>False</td>\n      <td>False</td>\n      <td>False</td>\n      <td>False</td>\n      <td>True</td>\n      <td>True</td>\n      <td>False</td>\n      <td>False</td>\n      <td>False</td>\n      <td>False</td>\n    </tr>\n    <tr>\n      <th>5040</th>\n      <td>False</td>\n      <td>False</td>\n      <td>False</td>\n      <td>False</td>\n      <td>False</td>\n      <td>False</td>\n      <td>False</td>\n      <td>False</td>\n      <td>True</td>\n      <td>False</td>\n      <td>...</td>\n      <td>False</td>\n      <td>False</td>\n      <td>False</td>\n      <td>True</td>\n      <td>False</td>\n      <td>False</td>\n      <td>False</td>\n      <td>False</td>\n      <td>True</td>\n      <td>False</td>\n    </tr>\n    <tr>\n      <th>5041</th>\n      <td>False</td>\n      <td>False</td>\n      <td>False</td>\n      <td>False</td>\n      <td>False</td>\n      <td>False</td>\n      <td>False</td>\n      <td>False</td>\n      <td>False</td>\n      <td>False</td>\n      <td>...</td>\n      <td>False</td>\n      <td>False</td>\n      <td>False</td>\n      <td>False</td>\n      <td>True</td>\n      <td>False</td>\n      <td>False</td>\n      <td>False</td>\n      <td>False</td>\n      <td>False</td>\n    </tr>\n    <tr>\n      <th>5042</th>\n      <td>False</td>\n      <td>False</td>\n      <td>False</td>\n      <td>False</td>\n      <td>False</td>\n      <td>False</td>\n      <td>False</td>\n      <td>False</td>\n      <td>False</td>\n      <td>False</td>\n      <td>...</td>\n      <td>False</td>\n      <td>False</td>\n      <td>False</td>\n      <td>False</td>\n      <td>False</td>\n      <td>False</td>\n      <td>False</td>\n      <td>False</td>\n      <td>False</td>\n      <td>False</td>\n    </tr>\n  </tbody>\n</table>\n<p>5043 rows × 28 columns</p>\n</div>"
     },
     "execution_count": 11,
     "metadata": {},
     "output_type": "execute_result"
    }
   ],
   "source": [
    "# check all nan data\n",
    "data.isna()"
   ]
  },
  {
   "cell_type": "code",
   "execution_count": 12,
   "metadata": {
    "pycharm": {
     "name": "#%%\n"
    }
   },
   "outputs": [
    {
     "name": "stdout",
     "output_type": "stream",
     "text": [
      "0          USA\n",
      "1          USA\n",
      "2           UK\n",
      "3          USA\n",
      "4             \n",
      "         ...  \n",
      "5038    Canada\n",
      "5039       USA\n",
      "5040       USA\n",
      "5041       USA\n",
      "5042       USA\n",
      "Name: country, Length: 5043, dtype: object\n",
      "0       178.000000\n",
      "1       169.000000\n",
      "2       148.000000\n",
      "3       164.000000\n",
      "4       107.201074\n",
      "           ...    \n",
      "5038     87.000000\n",
      "5039     43.000000\n",
      "5040     76.000000\n",
      "5041    100.000000\n",
      "5042     90.000000\n",
      "Name: duration, Length: 5043, dtype: float64\n"
     ]
    }
   ],
   "source": [
    "# fill data with suitable values\n",
    "# for example, use \"\" to replace nan values in column \"country\"\n",
    "data.country = data.country.fillna(\"\")\n",
    "print(data.country)\n",
    "# use mean duration to replace nan values in column \"duration\"\n",
    "data.duration = data.duration.fillna(data.duration.mean())\n",
    "print(data.duration)"
   ]
  },
  {
   "cell_type": "code",
   "execution_count": null,
   "metadata": {
    "pycharm": {
     "name": "#%%\n"
    }
   },
   "outputs": [],
   "source": [
    "# remove lines where some values are nan\n",
    "data.dropna()"
   ]
  },
  {
   "cell_type": "code",
   "execution_count": null,
   "metadata": {
    "pycharm": {
     "name": "#%%\n"
    }
   },
   "outputs": [],
   "source": [
    "# droping lines where just some values are nan is aggressive, so we can just remove lines where all values are nan.\n",
    "data.dropna(how=\"all\")"
   ]
  },
  {
   "cell_type": "code",
   "execution_count": null,
   "metadata": {
    "pycharm": {
     "name": "#%%\n"
    }
   },
   "outputs": [],
   "source": [
    "# we can also add some limitations, save lines where more than 25 values are not nan\n",
    "data.dropna(thresh=25)"
   ]
  },
  {
   "cell_type": "code",
   "execution_count": null,
   "metadata": {
    "pycharm": {
     "name": "#%%\n"
    }
   },
   "outputs": [],
   "source": [
    "# we can remove columns where all values are nan\n",
    "data.dropna(axis=1, how=\"all\")"
   ]
  },
  {
   "cell_type": "code",
   "execution_count": null,
   "metadata": {
    "pycharm": {
     "name": "#%%\n"
    }
   },
   "outputs": [],
   "source": [
    "# or remove columns where some values are nan\n",
    "data.dropna(axis=1, how=\"any\")"
   ]
  },
  {
   "cell_type": "markdown",
   "metadata": {
    "pycharm": {
     "name": "#%% md\n"
    }
   },
   "source": [
    "- Check Unreasonable Data\n",
    "1. Time\n",
    "2. Values with a range"
   ]
  },
  {
   "cell_type": "code",
   "execution_count": null,
   "metadata": {
    "pycharm": {
     "name": "#%%\n"
    }
   },
   "outputs": [],
   "source": [
    "# check title_year\n",
    "data[data[\"title_year\"] > 2022]"
   ]
  },
  {
   "cell_type": "code",
   "execution_count": null,
   "metadata": {
    "pycharm": {
     "name": "#%%\n"
    }
   },
   "outputs": [],
   "source": [
    "# check imdb_score\n",
    "data[data[\"imdb_score\"] > 10]"
   ]
  },
  {
   "cell_type": "code",
   "execution_count": null,
   "metadata": {
    "pycharm": {
     "name": "#%%\n"
    }
   },
   "outputs": [],
   "source": [
    "# check num_user_for_reviews\n",
    "data[data[\"num_user_for_reviews\"] < 0]"
   ]
  },
  {
   "cell_type": "markdown",
   "metadata": {
    "pycharm": {
     "name": "#%% md\n"
    }
   },
   "source": [
    "- Check Replicated Data"
   ]
  },
  {
   "cell_type": "code",
   "execution_count": null,
   "metadata": {
    "pycharm": {
     "name": "#%%\n"
    }
   },
   "outputs": [],
   "source": [
    "# check duplicated data\n",
    "data.duplicated()"
   ]
  },
  {
   "cell_type": "code",
   "execution_count": null,
   "metadata": {
    "pycharm": {
     "name": "#%%\n"
    }
   },
   "outputs": [],
   "source": [
    "# There is no duplicated lines in this file, thus we use a demo data to show how process it.\n",
    "df = pd.DataFrame({\n",
    "    'brand': ['Yum Yum', 'Yum Yum', 'Indomie', 'Indomie', 'Indomie'],\n",
    "    'style': ['cup', 'cup', 'cup', 'pack', 'pack'],\n",
    "    'rating': [4, 4, 3.5, 15, 5]\n",
    "})\n",
    "df"
   ]
  },
  {
   "cell_type": "code",
   "execution_count": null,
   "metadata": {
    "pycharm": {
     "name": "#%%\n"
    }
   },
   "outputs": [],
   "source": [
    "# By default, for each set of duplicated values, the first occurrence is set on False and all others on True.\n",
    "df.duplicated()"
   ]
  },
  {
   "cell_type": "code",
   "execution_count": null,
   "metadata": {
    "pycharm": {
     "name": "#%%\n"
    }
   },
   "outputs": [],
   "source": [
    "# By using ‘last’, the last occurrence of each set of duplicated values is set on False and all others on True.\n",
    "df.duplicated(keep='last')"
   ]
  },
  {
   "cell_type": "code",
   "execution_count": null,
   "metadata": {
    "pycharm": {
     "name": "#%%\n"
    }
   },
   "outputs": [],
   "source": [
    "# By setting keep on False, all duplicates are True.\n",
    "df.duplicated(keep=False)"
   ]
  },
  {
   "cell_type": "code",
   "execution_count": null,
   "metadata": {
    "pycharm": {
     "name": "#%%\n"
    }
   },
   "outputs": [],
   "source": [
    "# To find duplicates on specific column(s), use subset.\n",
    "df.duplicated(subset=['brand'])"
   ]
  },
  {
   "cell_type": "markdown",
   "metadata": {
    "pycharm": {
     "name": "#%% md\n"
    }
   },
   "source": [
    "- Constrain Data Type"
   ]
  },
  {
   "cell_type": "code",
   "execution_count": null,
   "metadata": {
    "pycharm": {
     "name": "#%%\n"
    }
   },
   "outputs": [],
   "source": [
    "# we can assume we know some columns' types and we can predefine it when reading data\n",
    "data = pd.read_csv(r'movie_metadata.csv', dtype={'num_voted_users': int, \"title_year\": str})"
   ]
  },
  {
   "cell_type": "code",
   "execution_count": null,
   "metadata": {
    "pycharm": {
     "name": "#%%\n"
    }
   },
   "outputs": [],
   "source": [
    "# we can also rename columns for human understanding\n",
    "data = data.rename(columns = {'title_year':'release_date', 'movie_facebook_likes':'facebook_likes'})\n",
    "data.head()"
   ]
  },
  {
   "cell_type": "code",
   "execution_count": null,
   "metadata": {
    "pycharm": {
     "name": "#%%\n"
    }
   },
   "outputs": [],
   "source": [
    "# after clean the data, we usually need to save the cleaned data to a new file\n",
    "data.to_csv('cleanfile.csv', encoding='utf-8')"
   ]
  },
  {
   "cell_type": "markdown",
   "metadata": {
    "pycharm": {
     "name": "#%% md\n"
    }
   },
   "source": [
    "### 2.2 Data Integration"
   ]
  },
  {
   "cell_type": "code",
   "execution_count": null,
   "metadata": {
    "pycharm": {
     "name": "#%%\n"
    }
   },
   "outputs": [],
   "source": [
    "df1=pd.DataFrame({'key':['b','b','a','c','a','a','b'],'data1':range(7)})\n",
    "df1\n"
   ]
  },
  {
   "cell_type": "code",
   "execution_count": null,
   "metadata": {
    "pycharm": {
     "name": "#%%\n"
    }
   },
   "outputs": [],
   "source": [
    "df2=pd.DataFrame({'key':['a','b','d'],'data2':range(3)})\n",
    "df2"
   ]
  },
  {
   "cell_type": "code",
   "execution_count": null,
   "metadata": {
    "pycharm": {
     "name": "#%%\n"
    }
   },
   "outputs": [],
   "source": [
    "# we can merge two datasets with pd.merge(), the default merged column is the common column\n",
    "pd.merge(df1, df2)\n"
   ]
  },
  {
   "cell_type": "code",
   "execution_count": null,
   "metadata": {
    "pycharm": {
     "name": "#%%\n"
    }
   },
   "outputs": [],
   "source": [
    "# of course, we could give the merged column\n",
    "pd.merge(df1,df2,on='key')\n"
   ]
  },
  {
   "cell_type": "code",
   "execution_count": null,
   "metadata": {
    "pycharm": {
     "name": "#%%\n"
    }
   },
   "outputs": [],
   "source": [
    "# we could merge two datasets with different columns\n",
    "df3=pd.DataFrame({'1key':['b','b','a','c','a','a','b'],'data1':range(7)})\n",
    "df3"
   ]
  },
  {
   "cell_type": "code",
   "execution_count": null,
   "metadata": {
    "pycharm": {
     "name": "#%%\n"
    }
   },
   "outputs": [],
   "source": [
    "df4=pd.DataFrame({'2key':['a','b','d'],'data2':range(3)})\n",
    "df4"
   ]
  },
  {
   "cell_type": "code",
   "execution_count": null,
   "metadata": {
    "pycharm": {
     "name": "#%%\n"
    }
   },
   "outputs": [],
   "source": [
    "# default mode keeps the cross set of key values, which is called inner connection\n",
    "pd.merge(df3,df4,left_on='1key',right_on='2key')"
   ]
  },
  {
   "cell_type": "code",
   "execution_count": null,
   "metadata": {
    "pycharm": {
     "name": "#%%\n"
    }
   },
   "outputs": [],
   "source": [
    "# when merge two datasets with outer connection\n",
    "pd.merge(df1,df2,on='key',how='outer')"
   ]
  },
  {
   "cell_type": "markdown",
   "metadata": {
    "pycharm": {
     "name": "#%% md\n"
    }
   },
   "source": [
    "### 2.3 Data Transformation\n",
    "- String Transformation\n",
    "- Number Transformation"
   ]
  },
  {
   "cell_type": "markdown",
   "metadata": {
    "pycharm": {
     "name": "#%% md\n"
    }
   },
   "source": [
    "- String Transformation"
   ]
  },
  {
   "cell_type": "code",
   "execution_count": null,
   "metadata": {
    "pycharm": {
     "name": "#%%\n"
    }
   },
   "outputs": [],
   "source": [
    "# lower and upper case\n",
    "data[\"director_name\"].str.upper()"
   ]
  },
  {
   "cell_type": "code",
   "execution_count": null,
   "metadata": {
    "pycharm": {
     "name": "#%%\n"
    }
   },
   "outputs": [],
   "source": [
    "# lower and upper case\n",
    "data[\"director_name\"].str.lower()"
   ]
  },
  {
   "cell_type": "code",
   "execution_count": null,
   "metadata": {
    "pycharm": {
     "name": "#%%\n"
    }
   },
   "outputs": [],
   "source": [
    "# remove special strings for whitespace, \\n\n",
    "data['movie_title'].str.strip()"
   ]
  },
  {
   "cell_type": "markdown",
   "metadata": {
    "pycharm": {
     "name": "#%% md\n"
    }
   },
   "source": [
    "- Number Transformation"
   ]
  },
  {
   "cell_type": "code",
   "execution_count": null,
   "metadata": {
    "pycharm": {
     "name": "#%%\n"
    }
   },
   "outputs": [],
   "source": [
    "# unit transformation\n",
    "\n",
    "data[\"duration\"]"
   ]
  },
  {
   "cell_type": "code",
   "execution_count": null,
   "metadata": {
    "pycharm": {
     "name": "#%%\n"
    }
   },
   "outputs": [],
   "source": [
    "data[\"duration\"] / 60"
   ]
  },
  {
   "cell_type": "code",
   "execution_count": null,
   "metadata": {
    "pycharm": {
     "name": "#%%\n"
    }
   },
   "outputs": [],
   "source": [
    "# normalization\n",
    "norm_duration = (data.duration - data.duration.min()) / (data.duration.max() - data.duration.min())\n",
    "norm_duration"
   ]
  },
  {
   "cell_type": "code",
   "execution_count": null,
   "metadata": {
    "pycharm": {
     "name": "#%%\n"
    }
   },
   "outputs": [],
   "source": [
    "# standardization\n",
    "std_duration = (data.duration - data.duration.mean()) / data.duration.std()\n",
    "std_duration"
   ]
  },
  {
   "cell_type": "code",
   "execution_count": null,
   "metadata": {
    "pycharm": {
     "name": "#%%\n"
    }
   },
   "outputs": [],
   "source": [
    "# discretization\n",
    "# qcut: divie data points into M groups and each group has the same number of data points\n",
    "m_cut = pd.qcut(data.duration, 5)\n",
    "m_cut"
   ]
  },
  {
   "cell_type": "markdown",
   "metadata": {
    "pycharm": {
     "name": "#%% md\n"
    }
   },
   "source": [
    "## 3. Regularization Expression\n",
    "1.Metacharacters\n",
    "- [] &emsp;&emsp; A set of characters\n",
    "- \\\t&emsp;&emsp; Signals a special sequence (can also be used to escape special characters)\n",
    "- .\t&emsp;&emsp; Any character (except newline character)\t\"he..o\"\t\n",
    "- ^\t&emsp;&emsp; Starts with \"^hello\"\t\n",
    "- Ends with \"planet\\$\"\n",
    "- \\* &emsp;&emsp; Zero or more occurrences\t\"he.*o\"\t\n",
    "- \\+ &emsp;&emsp; One or more occurrences\t\"he.+o\"\t\n",
    "- ?\t&emsp;&emsp; Zero or one occurrences\t\"he.?o\"\t\n",
    "- {} &emsp;&emsp; Exactly the specified number of occurrences\t\"he.{2}o\"\t\n",
    "- |\t&emsp;&emsp; Either or\t\"falls|stays\"\t\n",
    "- () &emsp;&emsp; Capture and group\n",
    "\n",
    "2.Special Sequences\n",
    "- \\A\t&emsp;&emsp; Returns a match if the specified characters are at the beginning of the string\t\"\\AThe\"\t\n",
    "- \\b\t&emsp;&emsp; Returns a match where the specified characters are at the beginning or at the end of a word\n",
    "(the \"r\" in the beginning is making sure that the string is being treated as a \"raw string\")\tr\"\\bain\"\n",
    "r\"ain\\b\"\t\n",
    "- \\B\t&emsp;&emsp; Returns a match where the specified characters are present, but NOT at the beginning (or at the end) of a word\n",
    "(the \"r\" in the beginning is making sure that the string is being treated as a \"raw string\")\tr\"\\Bain\"\n",
    "r\"ain\\B\"\t\n",
    "- \\d\t&emsp;&emsp; Returns a match where the string contains digits (numbers from 0-9)\t\"\\d\"\t\n",
    "- \\D\t&emsp;&emsp; Returns a match where the string DOES NOT contain digits\t\"\\D\"\t\n",
    "- \\s\t&emsp;&emsp; Returns a match where the string contains a white space character\t\"\\s\"\t\n",
    "- \\S\t&emsp;&emsp; Returns a match where the string DOES NOT contain a white space character\t\"\\S\"\t\n",
    "- \\w\t&emsp;&emsp; Returns a match where the string contains any word characters (characters from a to Z, digits from 0-9, and the underscore _ character)\t\"\\w\"\t\n",
    "- \\W\t&emsp;&emsp; Returns a match where the string DOES NOT contain any word characters\t\"\\W\"\t\n",
    "- \\Z\t&emsp;&emsp; Returns a match if the specified characters are at the end of the string\n",
    "\n",
    "3.Sets\n",
    "- [arn]\t&emsp;&emsp; Returns a match where one of the specified characters (a, r, or n) is present\t\n",
    "- [a-n]\t&emsp;&emsp; Returns a match for any lower case character, alphabetically between a and n\t\n",
    "- [^arn] &emsp;&emsp; Returns a match for any character EXCEPT a, r, and n\t\n",
    "- [0123] &emsp;&emsp; Returns a match where any of the specified digits (0, 1, 2, or 3) are present\t\n",
    "- [0-9]\t&emsp;&emsp; Returns a match for any digit between 0 and 9\t\n",
    "- [0-5][0-9] &emsp;&emsp; Returns a match for any two-digit numbers from 00 and 59\t\n",
    "- [a-zA-Z] &emsp;&emsp; Returns a match for any character alphabetically between a and z, lower case OR upper case\t\n",
    "- [+] &emsp;&emsp; In sets, +, *, ., |, (), $,{} has no special meaning, so [+] means: return a match for any + character in the string\n",
    "\n",
    "4.Funtions\n",
    "- The findall() function returns a list containing all matches.\n",
    "- The search() function searches the string for a match, and returns a Match object if there is a match. If there is more than one match, only the first occurrence of the match will be returned. If no matches are found, the value None is returned.\n",
    "- The split() function returns a list where the string has been split at each match.\n",
    "- The sub() function replaces the matches with the text of your choice.\n",
    "\n",
    "5.Ojects\n",
    "- A Match Object is an object containing information about the search and the result.\n",
    "- The Match object has properties and methods used to retrieve information about the search, and the result:\n",
    "\n",
    "- .span() returns a tuple containing the start-, and end positions of the match.\n",
    "\n",
    "- .string returns the string passed into the function\n",
    "\n",
    "- .group() returns the part of the string where there was a match\n"
   ]
  },
  {
   "cell_type": "code",
   "execution_count": null,
   "metadata": {
    "pycharm": {
     "name": "#%%\n"
    }
   },
   "outputs": [],
   "source": [
    "import re"
   ]
  },
  {
   "cell_type": "code",
   "execution_count": null,
   "metadata": {
    "pycharm": {
     "name": "#%%\n"
    }
   },
   "outputs": [],
   "source": [
    "# findall function\n",
    "txt = \"The rain in Spain\"\n",
    "x = re.findall(\"ai\", txt)\n",
    "print(x)"
   ]
  },
  {
   "cell_type": "code",
   "execution_count": null,
   "metadata": {
    "pycharm": {
     "name": "#%%\n"
    }
   },
   "outputs": [],
   "source": [
    "# Return an empty list if no match was found:\n",
    "txt = \"The rain in Spain\"\n",
    "x = re.findall(\"Portugal\", txt)\n",
    "print(x)"
   ]
  },
  {
   "cell_type": "code",
   "execution_count": null,
   "metadata": {
    "pycharm": {
     "name": "#%%\n"
    }
   },
   "outputs": [],
   "source": [
    "# search function\n",
    "txt = \"The rain in Spain\"\n",
    "x = re.search(\"\\s\", txt)\n",
    "\n",
    "print(\"The first white-space character is located in position:\", x.start())"
   ]
  },
  {
   "cell_type": "code",
   "execution_count": null,
   "metadata": {
    "pycharm": {
     "name": "#%%\n"
    }
   },
   "outputs": [],
   "source": [
    "# If no matches are found, the value None is returned: \n",
    "txt = \"The rain in Spain\"\n",
    "x = re.search(\"Portugal\", txt)\n",
    "print(x)"
   ]
  },
  {
   "cell_type": "code",
   "execution_count": null,
   "metadata": {
    "pycharm": {
     "name": "#%%\n"
    }
   },
   "outputs": [],
   "source": [
    "# split function\n",
    "txt = \"The rain in Spain\"\n",
    "x = re.split(\"\\s\", txt)\n",
    "print(x)"
   ]
  },
  {
   "cell_type": "code",
   "execution_count": null,
   "metadata": {
    "pycharm": {
     "name": "#%%\n"
    }
   },
   "outputs": [],
   "source": [
    "# Split the string only at the first occurrence:\n",
    "txt = \"The rain in Spain\"\n",
    "x = re.split(\"\\s\", txt, 1)\n",
    "print(x)"
   ]
  },
  {
   "cell_type": "code",
   "execution_count": null,
   "metadata": {
    "pycharm": {
     "name": "#%%\n"
    }
   },
   "outputs": [],
   "source": [
    "# Replace every white-space character with the number 9:\n",
    "txt = \"The rain in Spain\"\n",
    "x = re.sub(\"\\s\", \"9\", txt)\n",
    "print(x)"
   ]
  },
  {
   "cell_type": "code",
   "execution_count": null,
   "metadata": {
    "pycharm": {
     "name": "#%%\n"
    }
   },
   "outputs": [],
   "source": [
    "# Replace the first 2 occurrences:\n",
    "txt = \"The rain in Spain\"\n",
    "x = re.sub(\"\\s\", \"9\", txt, 2)\n",
    "print(x)"
   ]
  },
  {
   "cell_type": "code",
   "execution_count": null,
   "metadata": {
    "pycharm": {
     "name": "#%%\n"
    }
   },
   "outputs": [],
   "source": [
    "# Do a search that will return a Match Object:\n",
    "txt = \"The rain in Spain\"\n",
    "x = re.search(\"ai\", txt)\n",
    "print(x) #this will print an object"
   ]
  },
  {
   "cell_type": "code",
   "execution_count": null,
   "metadata": {
    "pycharm": {
     "name": "#%%\n"
    }
   },
   "outputs": [],
   "source": [
    "# Print the position (start- and end-position) of the first match occurrence.\n",
    "# The regular expression looks for any words that starts with an upper case \"S\":\n",
    "txt = \"The rain in Spain\"\n",
    "x = re.search(r\"\\bS\\w+\", txt)\n",
    "print(x.span())"
   ]
  },
  {
   "cell_type": "code",
   "execution_count": null,
   "metadata": {
    "pycharm": {
     "name": "#%%\n"
    }
   },
   "outputs": [],
   "source": [
    "# Print the string passed into the function:\n",
    "txt = \"The rain in Spain\"\n",
    "x = re.search(r\"\\bS\\w+\", txt)\n",
    "print(x.string)"
   ]
  },
  {
   "cell_type": "code",
   "execution_count": null,
   "metadata": {
    "pycharm": {
     "name": "#%%\n"
    }
   },
   "outputs": [],
   "source": [
    "# Print the part of the string where there was a match.\n",
    "# The regular expression looks for any words that starts with an upper case \"S\":\n",
    "txt = \"The rain in Spain\"\n",
    "x = re.search(r\"\\bS\\w+\", txt)\n",
    "print(x.group())"
   ]
  },
  {
   "cell_type": "code",
   "execution_count": null,
   "metadata": {
    "pycharm": {
     "name": "#%%\n"
    }
   },
   "outputs": [],
   "source": [
    "# Construction a regular expression which could extract e-mail\n",
    "pattern = re.compile(r\"[a-zA-Z0-9_-]+@[a-zA-Z0-9_-]+(?:\\.[a-zA-Z0-9_-]+)\")\n",
    "\n",
    "strs = 'My personal e-mail is test@outlook.com, company e-mail is 123456@qq.com'\n",
    "result = pattern.findall(strs)\n",
    "\n",
    "print(result)"
   ]
  },
  {
   "cell_type": "markdown",
   "metadata": {
    "pycharm": {
     "name": "#%% md\n"
    }
   },
   "source": [
    "## 4. Practice"
   ]
  },
  {
   "cell_type": "code",
   "execution_count": null,
   "metadata": {
    "pycharm": {
     "name": "#%%\n"
    }
   },
   "outputs": [],
   "source": [
    "a = [[1, 2, 3, 4, ],\n",
    "     [2, 3, 4, 5, 6],\n",
    "     [3, 4, 5, 6, 7]]\n",
    "data = pd.DataFrame(a)\n",
    "data"
   ]
  },
  {
   "cell_type": "code",
   "execution_count": null,
   "metadata": {
    "pycharm": {
     "name": "#%%\n"
    }
   },
   "outputs": [],
   "source": [
    "# find and repalce nan values in data with 0\n"
   ]
  },
  {
   "cell_type": "code",
   "execution_count": null,
   "metadata": {
    "pycharm": {
     "name": "#%%\n"
    }
   },
   "outputs": [],
   "source": [
    "# obtain the normalized data\n"
   ]
  },
  {
   "cell_type": "code",
   "execution_count": null,
   "metadata": {
    "pycharm": {
     "name": "#%%\n"
    }
   },
   "outputs": [],
   "source": [
    "# obtain the standarized data\n"
   ]
  },
  {
   "cell_type": "code",
   "execution_count": null,
   "metadata": {
    "pycharm": {
     "name": "#%%\n"
    }
   },
   "outputs": [],
   "source": [
    "# Construct a regular expression which could extract ip address\n",
    "# hint:\n",
    "pattern = re.compile(r\" \")\n",
    "strs = '''Please input valid IP addressm  invalid IP address and other chars will be filtered!\n",
    "192.168.8.84\n",
    "192.168.8.85\n",
    "192.168.8.86\n",
    "0.0.0.1\n",
    "256.1.1.1\n",
    "192.256.256.256\n",
    "192.255.255.255\n",
    "aa.bb.cc.dd'''\n",
    "\n",
    "result = pattern.findall(strs)\n",
    "print(result)\n",
    "\n",
    "# The answer is pattern = \n"
   ]
  },
  {
   "cell_type": "code",
   "execution_count": null,
   "metadata": {
    "pycharm": {
     "name": "#%%\n"
    }
   },
   "outputs": [],
   "source": [
    "# Construct a regular expression which could extract date\n",
    "\n",
    "strs = 'Today is 2022/09/13, today in the last year is 2021.09.13, today in the next year is 2023-09-13'\n",
    "result =                         #insert your answer here\n",
    "\n",
    "# The answer is "
   ]
  },
  {
   "cell_type": "code",
   "execution_count": null,
   "metadata": {
    "pycharm": {
     "name": "#%%\n"
    }
   },
   "outputs": [],
   "source": []
  }
 ],
 "metadata": {
  "kernelspec": {
   "display_name": "Python 3",
   "language": "python",
   "name": "python3"
  },
  "language_info": {
   "codemirror_mode": {
    "name": "ipython",
    "version": 3
   },
   "file_extension": ".py",
   "mimetype": "text/x-python",
   "name": "python",
   "nbconvert_exporter": "python",
   "pygments_lexer": "ipython3",
   "version": "3.7.4"
  },
  "vscode": {
   "interpreter": {
    "hash": "88279d2366fe020547cde40dd65aa0e3aa662a6ec1f3ca12d88834876c85e1a6"
   }
  }
 },
 "nbformat": 4,
 "nbformat_minor": 4
}