{
 "cells": [
  {
   "cell_type": "code",
   "execution_count": null,
   "id": "ce835ccd",
   "metadata": {},
   "outputs": [],
   "source": [
    "a = [[1, 2, 3, 4, ],\n",
    "     [2, 3, 4, 5, 6],\n",
    "     [3, 4, 5, 6, 7]]\n",
    "data = pd.DataFrame(a)\n",
    "data"
   ]
  },
  {
   "cell_type": "code",
   "execution_count": null,
   "id": "5d442b3e",
   "metadata": {},
   "outputs": [],
   "source": [
    "# find and repalce nan values in data with 0\n",
    "\n",
    "data = data.fillna(0)\n",
    "data"
   ]
  },
  {
   "cell_type": "code",
   "execution_count": null,
   "id": "29362e9d",
   "metadata": {},
   "outputs": [],
   "source": [
    "# obtain the normalized data\n",
    "\n",
    "norm_data = (data - data.min())/(data.max() - data.min())\n",
    "norm_data"
   ]
  },
  {
   "cell_type": "code",
   "execution_count": null,
   "id": "1d65c696",
   "metadata": {},
   "outputs": [],
   "source": [
    "# obtain the standarized data\n",
    "std_data = (data - data.mean())/data.std()\n",
    "std_data"
   ]
  },
  {
   "cell_type": "code",
   "execution_count": null,
   "id": "0e924c0c",
   "metadata": {},
   "outputs": [],
   "source": [
    "# Construct a regular expression which could extract ip address\n",
    "pattern = re.compile(r\"((?:(?:25[0-5]|2[0-4]\\d|[01]?\\d?\\d)\\.){3}(?:25[0-5]|2[0-4]\\d|[01]?\\d?\\d))\")\n",
    "strs = '''Please input valid IP addressm  invalid IP address and other chars will be filtered!\n",
    "192.168.8.84\n",
    "192.168.8.85\n",
    "192.168.8.86\n",
    "0.0.0.1\n",
    "256.1.1.1\n",
    "192.256.256.256\n",
    "192.255.255.255\n",
    "aa.bb.cc.dd'''\n",
    "\n",
    "result = pattern.findall(strs)\n",
    "print(result)\n",
    "\n",
    "# The answer is pattern = "
   ]
  },
  {
   "cell_type": "code",
   "execution_count": null,
   "id": "f6d394ea",
   "metadata": {},
   "outputs": [],
   "source": [
    "# Construct a regular expression which could extract date\n",
    "pattern = re.compile(r\"\\d{4}(?:-|\\/|.)\\d{1,2}(?:-|\\/|.)\\d{1,2}\")\n",
    "\n",
    "strs = 'Today is 2022/09/13, today in the last year is 2021.09.13, today in the next year is 2023-09-13'\n",
    "result = pattern.findall(strs)\n",
    "\n",
    "print(result)\n",
    "\n",
    "# The answer is "
   ]
  }
 ],
 "metadata": {
  "kernelspec": {
   "display_name": "Python 3 (ipykernel)",
   "language": "python",
   "name": "python3"
  },
  "language_info": {
   "codemirror_mode": {
    "name": "ipython",
    "version": 3
   },
   "file_extension": ".py",
   "mimetype": "text/x-python",
   "name": "python",
   "nbconvert_exporter": "python",
   "pygments_lexer": "ipython3",
   "version": "3.9.12"
  }
 },
 "nbformat": 4,
 "nbformat_minor": 5
}
