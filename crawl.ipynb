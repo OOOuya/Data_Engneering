{
 "cells": [
  {
   "cell_type": "code",
   "execution_count": 16,
   "outputs": [],
   "source": [
    "import datetime\n",
    "import json\n",
    "\n",
    "import requests\n",
    "from bs4 import BeautifulSoup\n",
    "\n",
    "'''\n",
    "getConn: async with aiohttp.ClientSession(headers=self.headers)as session: 异步连接， 使用etree.HTML解析\n",
    "GetZhihu: 解析soup，item.xpath 收集title, content\n",
    "'''\n",
    "\n",
    "\n",
    "class CrawData:\n",
    "    def __init__(self):\n",
    "        self.cookie = {\n",
    "            \"Zhihu\": \"_zap=76b4e1b6-cb41-474f-834c-02d66f618f59; d_c0=AODXtXv8fRWPTu9xBoST968twuJBcu0m9ig=|1662012047; YD00517437729195%3AWM_TID=wFNtumLPnL5FQQQBUQOBHP5%2FiBp5zUuH; _9755xjdesxxd_=32; gdxidpyhxdE=6%2Bda76P0N0buBJRKjOcYfpukmBT3a2BxiywALo2HZlrAdNwoGwkW7ZL8ZXda7IBMrfwLQvaX6ybQzEnsQ20v6lEafDT%2BHdnQEEXHNi3QfSgJJiHT%5C57%2FJ8Pga6ab%2BkMjYRiwDLtuNdOc%2FD2ZU7HI567zgXMGuvckJ21yn2M1xSIm7%2BvZ%3A1662106874351; YD00517437729195%3AWM_NI=BJurDgs5HdhkuGhxA%2BFP2hKQfQStlni5Xjp1A7ma0aao526nKQ7ZLhAbmlM7pnJDGPaua2j7cIqRrD5QX7UjvRWCzpG43Erbn2n66kEz6Jz%2F0mmb6xqoxmRxCJMVO9HFM00%3D; YD00517437729195%3AWM_NIKE=9ca17ae2e6ffcda170e2e6ee96b63a9baea4d0ed5c87bc8bb2c15f879f9e87c44da7eafda9ae4eb6ec86a9db2af0fea7c3b92a8296bb93c76db1eb8885eb61b799a899c4218690fe89ca5ba68f9d95ef66abeb988bf33b83e9a382b36ba3b1fbd3b566898ff9bbcf6483bea38dd03db4b286a5c65ca3abafd3e93da197bfb3f150f78f98d8d862b68e99a4f97c85ecfda6f16aaeeea2d7b56187a6faabf925f4b3a383b574b3b1b88ed174819683b7ce338c9a83d1b337e2a3; q_c1=9fde163d184f43c89b2a39878cb1191d|1662109910000|1662109910000; z_c0=2|1:0|10:1666873564|4:z_c0|80:MS4xVk4wbUJRQUFBQUFtQUFBQVlBSlZUWmhjUDJTMkg1cC1iY1drVzdvZ2xfN0pwdXpDLVV5TDJRPT0=|ba6373c3d19d92abc6a7d76e92e8c5786f16919d343b4f1447342b6ab6bd4aa2; _xsrf=2258b675-cd3b-4382-8635-3ac643942848; Hm_lvt_98beee57fd2ef70ccdd5ca52b9740c49=1666934408,1667016917,1667133485,1667198106; tst=h; NOT_UNREGISTER_WAITING=1; SESSIONID=7gjoDb6eWN6CFH57DlXdOd6ooIfAbLPYRIoUvO1isgP; JOID=V1wVAU7JIVGF7_XcdM7Qgx5qDqBk_0I57auW7hOebmPErr3oRzBQC-Hu8Npx-DMVFTGT-4XBQB7JZMDYRGbua2Y=; osd=W18cA0PFIliH4vnffczdjx1jDK1o_Es74KeV5xGTYmDNrLDkRDlSBu3t-dh89DAcFzyf-IzDTRLKbcLVSGXnaWs=; Hm_lpvt_98beee57fd2ef70ccdd5ca52b9740c49=1667201283; KLBRSID=3d7feb8a094c905a519e532f6843365f|1667201283|1667198101\",\n",
    "            \"Weibo\": \"SINAGLOBAL=9561045312014.672.1664548752421; ULV=1667202580095:2:1:1:3887597089592.931.1667202580071:1664548752436; PC_TOKEN=4415475114; SCF=AgRxuG63DyJVy6c3vWUVplWvLg66D1s5oNRbGM3_tqCpwqBWsfS-RC_hm5dA5ujeayRxGd8kkcB7E7x9k5ThgsQ.; SUB=_2A25OZK5SDeRhGeNG6VMV9ifIwzSIHXVtE5iarDV8PUJbmtAKLXDykW9NS2Aj9oBwqTuRX8USieBCknhdKkKS3XYn; SUBP=0033WrSXqPxfM725Ws9jqgMF55529P9D9WFKGQYbnVAGgRIAI_cEZzbr5JpX5K-hUgL.Fo-Reo2XSo.X1hn2dJLoI7LCUgpE-NWDd.Bt; ALF=1698828671; SSOLoginState=1667292674; lang=zh-hk; login_sid_t=d4e585815e005f9074e93c61af83c9b9; XSRF-TOKEN=6XLUa2mkUUslHKUKCaBulpYX; WBPSESS=3D-OIkJPmA_YQyxuIGJtpblMKWzvV744TalsPfUZX7wFEf1_ai2q65MimN9tPI975XteLqDKkBOMwBFn-SQUKSQuneUf5bob-7x3JmrDk4DVFO8cteQk9Rx8BBbah7DVk79ow8ROOJ6HjK-l2LduEg==\"\n",
    "        }\n",
    "        self.urls = {\n",
    "            'Zhihu': r'https://www.zhihu.com/hot',\n",
    "            'Weibo': r'https://s.weibo.com/top/summary',\n",
    "        }\n",
    "        self.headers = {\n",
    "            'User-Agent': 'Mozilla/5.0 (Windows NT 10.0; Win64; x64) AppleWebKit/537.36 (KHTML, like Gecko) Chrome/73.0.3683.86 Safari/537.36',\n",
    "        }\n",
    "        self.data = {}\n",
    "\n",
    "    def getDate(self):\n",
    "        return str(datetime.datetime.today())\n",
    "\n",
    "    def getConn(self, name):\n",
    "        url = self.urls[name]\n",
    "        # connect asynchronize\n",
    "        text = requests.get(url, headers=self.headers).text\n",
    "        return BeautifulSoup(text)\n",
    "\n",
    "    def getZhihu(self):\n",
    "        self.headers['cookie'] = self.cookie['Zhihu']\n",
    "        soup = self.getConn(\"Zhihu\")\n",
    "        hotList = soup.find(attrs={\"class\": \"HotList-list\"})\n",
    "        sections = hotList.findAll(\"section\", limit=50)\n",
    "        titles = []\n",
    "        date2title = {}\n",
    "        for section in sections:\n",
    "            title = section.find(attrs={\"class\": \"HotItem-title\"}).text\n",
    "            titles.append(title)\n",
    "        date2title[self.getDate()] = titles\n",
    "        self.data[\"Zhihu\"] = date2title\n",
    "\n",
    "    def getWeibo(self):\n",
    "        self.headers[\"cookie\"] = self.cookie[\"Weibo\"]\n",
    "        soup = self.getConn(\"Weibo\")\n",
    "        rows = soup.find(class_=\"data\").findAll(class_=\"td-02\", limit=50)\n",
    "        titles = []\n",
    "        date2title = {}\n",
    "        for row in rows:\n",
    "            title = row.find(\"a\").text\n",
    "            titles.append(title)\n",
    "        date2title[self.getDate()] = titles\n",
    "        self.data[\"Weibo\"] = date2title\n",
    "\n",
    "craw_data = CrawData()"
   ],
   "metadata": {
    "collapsed": false
   }
  },
  {
   "cell_type": "code",
   "execution_count": 17,
   "outputs": [
    {
     "data": {
      "text/plain": "{'2022-11-02 09:47:26.828460': ['如何看待颜宁将辞去普林斯顿大学教职，出任深圳医学科学院创始院长？',\n  'JDG 不敌 T1 止步四强，LCK 主持人现场带队喊话「LPL DOWN」对此你有什么想说？',\n  '如果核聚变研究成功，电费会多少钱一度？几分钱还是不要钱了？',\n  '兰州七里河警方回应儿童死亡事件，系「使用液化气灶不当，一氧化碳中毒死亡」，有哪些信息值得关注？',\n  '第 33 届飞天奖获奖名单公布，你对各奖项的归属满意吗？',\n  '乌运粮船不顾俄方警告坚持出港，目前当地情况如何？',\n  '为什么现在喜欢穿皮衣的年轻男生越来越少了？',\n  '近六成本科生起薪低于 6000 元，互联网开发人员收入最高，哪些职业或有不错的前景？哪些职业风光不再？',\n  '全班 43 人开家长会只来了 7 位爸爸，学校称未来准备策划爸爸家长会，如何看待这一现象？',\n  '俞敏洪称自己感觉「越来越多大学生成利己主义者」，如何看待此观点？',\n  '如何看待呼和浩特一副局长佩戴疑似 3 万元耳钉与 4 千元丝巾，当地称纪委部门已介入调查？',\n  '马斯克成立推特内容审核委员会，引来多国政要喊话，马斯克可能给推特带来哪些变化？',\n  '韩总理回应梨泰院踩踏事故「年轻人享受节日并没有错，承诺绝不发生此类惨剧」，如何看待此回应？',\n  '为什么说养猫不要养公的?',\n  '11 月 1 日港股全线大涨，恒指收涨 5.23%，恒生科技指数涨近 8% ，发生了什么？',\n  '哪些以前酒局的「非主流」成为了现在的「主流」？',\n  '决赛你想看到 faker 四冠还是戴先生一冠？',\n  '如何看待两部门发文「本月起开展完整社区试点」，将配建食堂、家政网点等设施？有哪些意义？',\n  '每天坚持晨跑 5 公里，会怎么样？',\n  '如何评价《脱口秀大会 5》第八期（上）？',\n  '冯小刚发文否认移民美国，称「是送女儿去入学，国家有恩于我」，如何看待此事？',\n  '如何评价《脱口秀大会》第五季第八期（上）？',\n  '中国没有超级英雄片，是因为中国有了武侠文化吗？',\n  '有哪些两年前看起来装腔作势的家电，现在已经拿捏住你的家居日常了？',\n  '为什么年轻的时候要努力赚钱？',\n  '4 岁孩子性格暴躁，该怎么改变孩子的脾性？',\n  '33 岁非法本男，通过了法考，有多大意义？',\n  '可以给处在黑暗的我一点点建议吗？',\n  '科研工作者（含博士生）每天怎么安排科研和作息才能保证身心健康愉悦呢？',\n  '你何时发现爸爸妈妈真的很爱你？',\n  '日本女演员水原希子称「色狼是日本独有文化」，引发巨大争议，如何看待此事？',\n  '为什么很多人喜欢阅读，但不喜欢写作？',\n  '为了友谊放弃未来值得吗？',\n  '直播带货怎么样才能避坑？',\n  '如何看待 10 月 28 日收盘沪指跌超 2%，险守 2900 点？还有哪些信息值得关注？',\n  '物质和空间是不是一种东西？物质存在于空间中，那么物质和空间是相容还是不相容？',\n  '大学在宿舍落单了，独来独往怎么办?',\n  'vivo X Fold+ 适合作为主力机吗？',\n  '你有哪些换头级的化妆体验？',\n  '普京称「俄气获准参与『北溪』管道泄漏事件调查，『北溪』爆炸是一次明显的恐怖袭击」，调查会取得哪些进展？',\n  '近 50 城调整认房认贷政策，「结清首套房贷可执行首套贷款政策」，此举会给房地产市场带来哪些变化？',\n  '原神我很讨厌小吉祥草王，对博士和散兵更有好感，同事半开玩笑半当真说我可能是反社会人格，你怎么看呢？',\n  '如何看待顾客漏扫一块猪肉被超市罚 2 万元？超市的罚款行为是否合法？该如何正确处理此类事件？',\n  '男子 12 万卖掉网络游戏账户后恶意找回获刑三年半，如何从法律角度解读此判决？如何防止游戏账号被盗用？',\n  '学习了这么多古诗文言文，那些惊艳了好久的诗句都有哪些呢？',\n  '有哪些佛系不费力的户外运动推荐？',\n  '小学一、二年级的孩子，需要在学习课本内容以外购买其他学习资料进行学习吗？',\n  '什么是心理学上的「自我实现预言」？',\n  '2022 年如何重新评价《原神》这款游戏？',\n  '现在坚持上高中是正确的吗？']}"
     },
     "execution_count": 17,
     "metadata": {},
     "output_type": "execute_result"
    }
   ],
   "source": [
    "zhihu = craw_data.getZhihu()\n",
    "craw_data.data['Zhihu']"
   ],
   "metadata": {
    "collapsed": false
   }
  },
  {
   "cell_type": "code",
   "execution_count": 3,
   "outputs": [],
   "source": [
    "craw_data.getWeibo()\n",
    "craw_data.data['Weibo']"
   ],
   "metadata": {
    "collapsed": false
   }
  },
  {
   "cell_type": "code",
   "execution_count": 6,
   "outputs": [],
   "source": [
    "import json\n",
    "\n",
    "with open(\"weiboHot.txt\", \"w\", encoding=\"utf-8\") as file:\n",
    "    file.write(json.dumps(craw_data.data['Weibo'], indent=4, ensure_ascii=False))\n"
   ],
   "metadata": {
    "collapsed": false
   }
  },
  {
   "cell_type": "code",
   "execution_count": 7,
   "outputs": [],
   "source": [
    "import json\n",
    "\n",
    "with open(\"zhihuHot.txt\", \"w\", encoding=\"utf-8\") as file:\n",
    "    file.write(json.dumps(craw_data.data['Zhihu'], indent=4, ensure_ascii=False))\n"
   ],
   "metadata": {
    "collapsed": false
   }
  },
  {
   "cell_type": "code",
   "execution_count": 15,
   "outputs": [
    {
     "ename": "TypeError",
     "evalue": "'getset_descriptor' object is not callable",
     "output_type": "error",
     "traceback": [
      "\u001B[1;31m---------------------------------------------------------------------------\u001B[0m",
      "\u001B[1;31mTypeError\u001B[0m                                 Traceback (most recent call last)",
      "Input \u001B[1;32mIn [15]\u001B[0m, in \u001B[0;36m<cell line: 1>\u001B[1;34m()\u001B[0m\n\u001B[1;32m----> 1\u001B[0m \u001B[43mdatetime\u001B[49m\u001B[38;5;241;43m.\u001B[39;49m\u001B[43mtime\u001B[49m\u001B[38;5;241;43m.\u001B[39;49m\u001B[43mhour\u001B[49m\u001B[43m(\u001B[49m\u001B[43m)\u001B[49m\n",
      "\u001B[1;31mTypeError\u001B[0m: 'getset_descriptor' object is not callable"
     ]
    }
   ],
   "source": [
    "datetime.time.hour()"
   ],
   "metadata": {
    "collapsed": false
   }
  },
  {
   "cell_type": "code",
   "execution_count": null,
   "outputs": [],
   "source": [],
   "metadata": {
    "collapsed": false
   }
  }
 ],
 "metadata": {
  "kernelspec": {
   "display_name": "Python 3",
   "language": "python",
   "name": "python3"
  },
  "language_info": {
   "codemirror_mode": {
    "name": "ipython",
    "version": 2
   },
   "file_extension": ".py",
   "mimetype": "text/x-python",
   "name": "python",
   "nbconvert_exporter": "python",
   "pygments_lexer": "ipython2",
   "version": "2.7.6"
  }
 },
 "nbformat": 4,
 "nbformat_minor": 0
}
